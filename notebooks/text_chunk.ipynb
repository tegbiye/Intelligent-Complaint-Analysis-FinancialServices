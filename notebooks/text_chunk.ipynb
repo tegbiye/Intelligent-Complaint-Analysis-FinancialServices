{
 "cells": [
  {
   "cell_type": "code",
   "execution_count": 1,
   "id": "3876df49",
   "metadata": {},
   "outputs": [],
   "source": [
    "%load_ext autoreload\n",
    "%autoreload 2"
   ]
  },
  {
   "cell_type": "code",
   "execution_count": 2,
   "id": "6888a983",
   "metadata": {},
   "outputs": [],
   "source": [
    "%reload_ext autoreload"
   ]
  },
  {
   "cell_type": "code",
   "execution_count": null,
   "id": "623e0dc2",
   "metadata": {},
   "outputs": [
    {
     "name": "stdout",
     "output_type": "stream",
     "text": [
      "Looking in indexes: https://pypi.org/simple, https://pypi.ngc.nvidia.com\n",
      "Collecting ipywidgets\n",
      "  Downloading ipywidgets-8.1.7-py3-none-any.whl.metadata (2.4 kB)\n",
      "Requirement already satisfied: comm>=0.1.3 in c:\\users\\astu-pg\\intelligent-complaint-analysis-financialservices\\.ienv\\lib\\site-packages (from ipywidgets) (0.2.2)\n",
      "Requirement already satisfied: ipython>=6.1.0 in c:\\users\\astu-pg\\intelligent-complaint-analysis-financialservices\\.ienv\\lib\\site-packages (from ipywidgets) (9.4.0)\n",
      "Requirement already satisfied: traitlets>=4.3.1 in c:\\users\\astu-pg\\intelligent-complaint-analysis-financialservices\\.ienv\\lib\\site-packages (from ipywidgets) (5.14.3)\n",
      "Collecting widgetsnbextension~=4.0.14 (from ipywidgets)\n",
      "  Downloading widgetsnbextension-4.0.14-py3-none-any.whl.metadata (1.6 kB)\n",
      "Collecting jupyterlab_widgets~=3.0.15 (from ipywidgets)\n",
      "  Downloading jupyterlab_widgets-3.0.15-py3-none-any.whl.metadata (20 kB)\n",
      "Requirement already satisfied: colorama in c:\\users\\astu-pg\\intelligent-complaint-analysis-financialservices\\.ienv\\lib\\site-packages (from ipython>=6.1.0->ipywidgets) (0.4.6)\n",
      "Requirement already satisfied: decorator in c:\\users\\astu-pg\\intelligent-complaint-analysis-financialservices\\.ienv\\lib\\site-packages (from ipython>=6.1.0->ipywidgets) (5.2.1)\n",
      "Requirement already satisfied: ipython-pygments-lexers in c:\\users\\astu-pg\\intelligent-complaint-analysis-financialservices\\.ienv\\lib\\site-packages (from ipython>=6.1.0->ipywidgets) (1.1.1)\n",
      "Requirement already satisfied: jedi>=0.16 in c:\\users\\astu-pg\\intelligent-complaint-analysis-financialservices\\.ienv\\lib\\site-packages (from ipython>=6.1.0->ipywidgets) (0.19.2)\n",
      "Requirement already satisfied: matplotlib-inline in c:\\users\\astu-pg\\intelligent-complaint-analysis-financialservices\\.ienv\\lib\\site-packages (from ipython>=6.1.0->ipywidgets) (0.1.7)\n",
      "Requirement already satisfied: prompt_toolkit<3.1.0,>=3.0.41 in c:\\users\\astu-pg\\intelligent-complaint-analysis-financialservices\\.ienv\\lib\\site-packages (from ipython>=6.1.0->ipywidgets) (3.0.51)\n",
      "Requirement already satisfied: pygments>=2.4.0 in c:\\users\\astu-pg\\intelligent-complaint-analysis-financialservices\\.ienv\\lib\\site-packages (from ipython>=6.1.0->ipywidgets) (2.19.2)\n",
      "Requirement already satisfied: stack_data in c:\\users\\astu-pg\\intelligent-complaint-analysis-financialservices\\.ienv\\lib\\site-packages (from ipython>=6.1.0->ipywidgets) (0.6.3)\n",
      "Requirement already satisfied: wcwidth in c:\\users\\astu-pg\\intelligent-complaint-analysis-financialservices\\.ienv\\lib\\site-packages (from prompt_toolkit<3.1.0,>=3.0.41->ipython>=6.1.0->ipywidgets) (0.2.13)\n",
      "Requirement already satisfied: parso<0.9.0,>=0.8.4 in c:\\users\\astu-pg\\intelligent-complaint-analysis-financialservices\\.ienv\\lib\\site-packages (from jedi>=0.16->ipython>=6.1.0->ipywidgets) (0.8.4)\n",
      "Requirement already satisfied: executing>=1.2.0 in c:\\users\\astu-pg\\intelligent-complaint-analysis-financialservices\\.ienv\\lib\\site-packages (from stack_data->ipython>=6.1.0->ipywidgets) (2.2.0)\n",
      "Requirement already satisfied: asttokens>=2.1.0 in c:\\users\\astu-pg\\intelligent-complaint-analysis-financialservices\\.ienv\\lib\\site-packages (from stack_data->ipython>=6.1.0->ipywidgets) (3.0.0)\n",
      "Requirement already satisfied: pure-eval in c:\\users\\astu-pg\\intelligent-complaint-analysis-financialservices\\.ienv\\lib\\site-packages (from stack_data->ipython>=6.1.0->ipywidgets) (0.2.3)\n",
      "Downloading ipywidgets-8.1.7-py3-none-any.whl (139 kB)\n",
      "Downloading jupyterlab_widgets-3.0.15-py3-none-any.whl (216 kB)\n",
      "Downloading widgetsnbextension-4.0.14-py3-none-any.whl (2.2 MB)\n",
      "   ---------------------------------------- 0.0/2.2 MB ? eta -:--:--\n",
      "   ---------------------------------------- 0.0/2.2 MB ? eta -:--:--\n",
      "   ---------------------------------------- 0.0/2.2 MB ? eta -:--:--\n",
      "   ---------------------------------------- 0.0/2.2 MB ? eta -:--:--\n",
      "   ---------------------------------------- 0.0/2.2 MB ? eta -:--:--\n",
      "   ---------------------------------------- 0.0/2.2 MB ? eta -:--:--\n",
      "   ---------------------------------------- 0.0/2.2 MB ? eta -:--:--\n",
      "   ---------------------------------------- 0.0/2.2 MB ? eta -:--:--\n",
      "   ---------------------------------------- 0.0/2.2 MB ? eta -:--:--\n",
      "   ---------------------------------------- 0.0/2.2 MB ? eta -:--:--\n",
      "   ---------------------------------------- 0.0/2.2 MB ? eta -:--:--\n",
      "   ---------------------------------------- 0.0/2.2 MB ? eta -:--:--\n",
      "   ---------------------------------------- 0.0/2.2 MB ? eta -:--:--\n",
      "   ---------------------------------------- 0.0/2.2 MB ? eta -:--:--\n",
      "   ---------------------------------------- 0.0/2.2 MB ? eta -:--:--\n",
      "   ---------------------------------------- 0.0/2.2 MB ? eta -:--:--\n",
      "   ---------------------------------------- 0.0/2.2 MB ? eta -:--:--\n",
      "   ---------------------------------------- 0.0/2.2 MB ? eta -:--:--\n",
      "   ---------------------------------------- 0.0/2.2 MB ? eta -:--:--\n",
      "   ---------------------------------------- 0.0/2.2 MB ? eta -:--:--\n",
      "   ---------------------------------------- 0.0/2.2 MB ? eta -:--:--\n",
      "   ---- ----------------------------------- 0.3/2.2 MB ? eta -:--:--\n",
      "   ---- ----------------------------------- 0.3/2.2 MB ? eta -:--:--\n",
      "   ---- ----------------------------------- 0.3/2.2 MB ? eta -:--:--\n",
      "   ---- ----------------------------------- 0.3/2.2 MB ? eta -:--:--\n",
      "   ---- ----------------------------------- 0.3/2.2 MB ? eta -:--:--\n",
      "   ---- ----------------------------------- 0.3/2.2 MB ? eta -:--:--\n",
      "   ---- ----------------------------------- 0.3/2.2 MB ? eta -:--:--\n",
      "   ---- ----------------------------------- 0.3/2.2 MB ? eta -:--:--\n",
      "   ---- ----------------------------------- 0.3/2.2 MB ? eta -:--:--\n",
      "   ---- ----------------------------------- 0.3/2.2 MB ? eta -:--:--\n",
      "   ---- ----------------------------------- 0.3/2.2 MB ? eta -:--:--\n",
      "   ---- ----------------------------------- 0.3/2.2 MB ? eta -:--:--\n",
      "   ---- ----------------------------------- 0.3/2.2 MB ? eta -:--:--\n",
      "   ---- ----------------------------------- 0.3/2.2 MB ? eta -:--:--\n",
      "   ---- ----------------------------------- 0.3/2.2 MB ? eta -:--:--\n",
      "   ---- ----------------------------------- 0.3/2.2 MB ? eta -:--:--\n",
      "   ---- ----------------------------------- 0.3/2.2 MB ? eta -:--:--\n",
      "   ---- ----------------------------------- 0.3/2.2 MB ? eta -:--:--\n",
      "   ---- ----------------------------------- 0.3/2.2 MB ? eta -:--:--\n",
      "   ---- ----------------------------------- 0.3/2.2 MB ? eta -:--:--\n",
      "   ---- ----------------------------------- 0.3/2.2 MB ? eta -:--:--\n",
      "   ---- ----------------------------------- 0.3/2.2 MB ? eta -:--:--\n",
      "   ---- ----------------------------------- 0.3/2.2 MB ? eta -:--:--\n",
      "   ---- ----------------------------------- 0.3/2.2 MB ? eta -:--:--\n",
      "   ---- ----------------------------------- 0.3/2.2 MB ? eta -:--:--\n",
      "   ---- ----------------------------------- 0.3/2.2 MB ? eta -:--:--\n",
      "   ---- ----------------------------------- 0.3/2.2 MB ? eta -:--:--\n",
      "   ---- ----------------------------------- 0.3/2.2 MB ? eta -:--:--\n",
      "   ---- ----------------------------------- 0.3/2.2 MB ? eta -:--:--\n",
      "   ---- ----------------------------------- 0.3/2.2 MB ? eta -:--:--\n",
      "   ---- ----------------------------------- 0.3/2.2 MB ? eta -:--:--\n",
      "   --------- ------------------------------ 0.5/2.2 MB 40.9 kB/s eta 0:00:41\n",
      "   --------- ------------------------------ 0.5/2.2 MB 40.9 kB/s eta 0:00:41\n",
      "   --------- ------------------------------ 0.5/2.2 MB 40.9 kB/s eta 0:00:41\n",
      "   --------- ------------------------------ 0.5/2.2 MB 40.9 kB/s eta 0:00:41\n",
      "   --------- ------------------------------ 0.5/2.2 MB 40.9 kB/s eta 0:00:41\n",
      "   --------- ------------------------------ 0.5/2.2 MB 40.9 kB/s eta 0:00:41\n",
      "   --------- ------------------------------ 0.5/2.2 MB 40.9 kB/s eta 0:00:41\n",
      "   --------- ------------------------------ 0.5/2.2 MB 40.9 kB/s eta 0:00:41\n",
      "   --------- ------------------------------ 0.5/2.2 MB 40.9 kB/s eta 0:00:41\n",
      "   --------- ------------------------------ 0.5/2.2 MB 40.9 kB/s eta 0:00:41\n",
      "   --------- ------------------------------ 0.5/2.2 MB 40.9 kB/s eta 0:00:41\n",
      "   --------- ------------------------------ 0.5/2.2 MB 40.9 kB/s eta 0:00:41\n",
      "   --------- ------------------------------ 0.5/2.2 MB 40.9 kB/s eta 0:00:41\n",
      "   --------- ------------------------------ 0.5/2.2 MB 40.9 kB/s eta 0:00:41\n",
      "   --------- ------------------------------ 0.5/2.2 MB 40.9 kB/s eta 0:00:41\n",
      "   --------- ------------------------------ 0.5/2.2 MB 40.9 kB/s eta 0:00:41\n",
      "   --------- ------------------------------ 0.5/2.2 MB 40.9 kB/s eta 0:00:41\n",
      "   --------- ------------------------------ 0.5/2.2 MB 40.9 kB/s eta 0:00:41\n",
      "   --------- ------------------------------ 0.5/2.2 MB 40.9 kB/s eta 0:00:41\n",
      "   --------- ------------------------------ 0.5/2.2 MB 40.9 kB/s eta 0:00:41\n",
      "   --------- ------------------------------ 0.5/2.2 MB 40.9 kB/s eta 0:00:41\n",
      "   --------- ------------------------------ 0.5/2.2 MB 40.9 kB/s eta 0:00:41\n",
      "   --------- ------------------------------ 0.5/2.2 MB 40.9 kB/s eta 0:00:41\n",
      "   --------- ------------------------------ 0.5/2.2 MB 40.9 kB/s eta 0:00:41\n",
      "   --------- ------------------------------ 0.5/2.2 MB 40.9 kB/s eta 0:00:41\n",
      "   --------- ------------------------------ 0.5/2.2 MB 40.9 kB/s eta 0:00:41\n",
      "   --------- ------------------------------ 0.5/2.2 MB 40.9 kB/s eta 0:00:41\n",
      "   --------- ------------------------------ 0.5/2.2 MB 40.9 kB/s eta 0:00:41\n",
      "   --------- ------------------------------ 0.5/2.2 MB 40.9 kB/s eta 0:00:41\n",
      "   --------- ------------------------------ 0.5/2.2 MB 40.9 kB/s eta 0:00:41\n",
      "   --------- ------------------------------ 0.5/2.2 MB 40.9 kB/s eta 0:00:41\n",
      "   --------- ------------------------------ 0.5/2.2 MB 40.9 kB/s eta 0:00:41\n",
      "   --------- ------------------------------ 0.5/2.2 MB 40.9 kB/s eta 0:00:41\n",
      "   --------- ------------------------------ 0.5/2.2 MB 40.9 kB/s eta 0:00:41\n",
      "   -------------- ------------------------- 0.8/2.2 MB 38.3 kB/s eta 0:00:37\n",
      "   -------------- ------------------------- 0.8/2.2 MB 38.3 kB/s eta 0:00:37\n",
      "   -------------- ------------------------- 0.8/2.2 MB 38.3 kB/s eta 0:00:37\n",
      "   -------------- ------------------------- 0.8/2.2 MB 38.3 kB/s eta 0:00:37\n",
      "   -------------- ------------------------- 0.8/2.2 MB 38.3 kB/s eta 0:00:37\n",
      "   -------------- ------------------------- 0.8/2.2 MB 38.3 kB/s eta 0:00:37\n",
      "   -------------- ------------------------- 0.8/2.2 MB 38.3 kB/s eta 0:00:37\n",
      "   -------------- ------------------------- 0.8/2.2 MB 38.3 kB/s eta 0:00:37\n",
      "   -------------- ------------------------- 0.8/2.2 MB 38.3 kB/s eta 0:00:37\n",
      "   -------------- ------------------------- 0.8/2.2 MB 38.3 kB/s eta 0:00:37\n",
      "   -------------- ------------------------- 0.8/2.2 MB 38.3 kB/s eta 0:00:37\n",
      "   -------------- ------------------------- 0.8/2.2 MB 38.3 kB/s eta 0:00:37\n",
      "   -------------- ------------------------- 0.8/2.2 MB 38.3 kB/s eta 0:00:37\n",
      "   -------------- ------------------------- 0.8/2.2 MB 38.3 kB/s eta 0:00:37\n",
      "   -------------- ------------------------- 0.8/2.2 MB 38.3 kB/s eta 0:00:37\n",
      "   -------------- ------------------------- 0.8/2.2 MB 38.3 kB/s eta 0:00:37\n",
      "   -------------- ------------------------- 0.8/2.2 MB 38.3 kB/s eta 0:00:37\n",
      "   -------------- ------------------------- 0.8/2.2 MB 38.3 kB/s eta 0:00:37\n",
      "   -------------- ------------------------- 0.8/2.2 MB 38.3 kB/s eta 0:00:37\n",
      "   -------------- ------------------------- 0.8/2.2 MB 38.3 kB/s eta 0:00:37\n",
      "   -------------- ------------------------- 0.8/2.2 MB 38.3 kB/s eta 0:00:37\n",
      "   -------------- ------------------------- 0.8/2.2 MB 38.3 kB/s eta 0:00:37\n",
      "   -------------- ------------------------- 0.8/2.2 MB 38.3 kB/s eta 0:00:37\n",
      "   -------------- ------------------------- 0.8/2.2 MB 38.3 kB/s eta 0:00:37\n",
      "   -------------- ------------------------- 0.8/2.2 MB 38.3 kB/s eta 0:00:37\n",
      "   -------------- ------------------------- 0.8/2.2 MB 38.3 kB/s eta 0:00:37\n",
      "   -------------- ------------------------- 0.8/2.2 MB 38.3 kB/s eta 0:00:37\n",
      "   -------------- ------------------------- 0.8/2.2 MB 38.3 kB/s eta 0:00:37\n",
      "   -------------- ------------------------- 0.8/2.2 MB 38.3 kB/s eta 0:00:37\n",
      "   -------------- ------------------------- 0.8/2.2 MB 38.3 kB/s eta 0:00:37\n",
      "   -------------- ------------------------- 0.8/2.2 MB 38.3 kB/s eta 0:00:37\n",
      "   -------------- ------------------------- 0.8/2.2 MB 38.3 kB/s eta 0:00:37\n",
      "   -------------- ------------------------- 0.8/2.2 MB 38.3 kB/s eta 0:00:37\n",
      "   ------------------- -------------------- 1.0/2.2 MB 38.4 kB/s eta 0:00:30\n",
      "   ------------------- -------------------- 1.0/2.2 MB 38.4 kB/s eta 0:00:30\n",
      "   ------------------- -------------------- 1.0/2.2 MB 38.4 kB/s eta 0:00:30\n",
      "   ------------------- -------------------- 1.0/2.2 MB 38.4 kB/s eta 0:00:30\n",
      "   ------------------- -------------------- 1.0/2.2 MB 38.4 kB/s eta 0:00:30\n",
      "   ------------------- -------------------- 1.0/2.2 MB 38.4 kB/s eta 0:00:30\n",
      "   ------------------- -------------------- 1.0/2.2 MB 38.4 kB/s eta 0:00:30\n",
      "   ------------------- -------------------- 1.0/2.2 MB 38.4 kB/s eta 0:00:30\n",
      "   ------------------- -------------------- 1.0/2.2 MB 38.4 kB/s eta 0:00:30\n",
      "   ------------------- -------------------- 1.0/2.2 MB 38.4 kB/s eta 0:00:30\n",
      "   ------------------- -------------------- 1.0/2.2 MB 38.4 kB/s eta 0:00:30\n",
      "   ------------------- -------------------- 1.0/2.2 MB 38.4 kB/s eta 0:00:30\n",
      "   ------------------- -------------------- 1.0/2.2 MB 38.4 kB/s eta 0:00:30\n",
      "   ------------------- -------------------- 1.0/2.2 MB 38.4 kB/s eta 0:00:30\n",
      "   ------------------- -------------------- 1.0/2.2 MB 38.4 kB/s eta 0:00:30\n",
      "   ------------------- -------------------- 1.0/2.2 MB 38.4 kB/s eta 0:00:30\n",
      "   ------------------- -------------------- 1.0/2.2 MB 38.4 kB/s eta 0:00:30\n",
      "   ------------------- -------------------- 1.0/2.2 MB 38.4 kB/s eta 0:00:30\n",
      "   ------------------- -------------------- 1.0/2.2 MB 38.4 kB/s eta 0:00:30\n",
      "   ------------------- -------------------- 1.0/2.2 MB 38.4 kB/s eta 0:00:30\n",
      "   ------------------- -------------------- 1.0/2.2 MB 38.4 kB/s eta 0:00:30\n",
      "   ------------------- -------------------- 1.0/2.2 MB 38.4 kB/s eta 0:00:30\n",
      "   ------------------- -------------------- 1.0/2.2 MB 38.4 kB/s eta 0:00:30\n",
      "   ------------------- -------------------- 1.0/2.2 MB 38.4 kB/s eta 0:00:30\n",
      "   ------------------- -------------------- 1.0/2.2 MB 38.4 kB/s eta 0:00:30\n",
      "   ------------------- -------------------- 1.0/2.2 MB 38.4 kB/s eta 0:00:30\n",
      "   ------------------- -------------------- 1.0/2.2 MB 38.4 kB/s eta 0:00:30\n",
      "   ------------------- -------------------- 1.0/2.2 MB 38.4 kB/s eta 0:00:30\n",
      "   ------------------- -------------------- 1.0/2.2 MB 38.4 kB/s eta 0:00:30\n",
      "   ------------------- -------------------- 1.0/2.2 MB 38.4 kB/s eta 0:00:30\n",
      "   ------------------- -------------------- 1.0/2.2 MB 38.4 kB/s eta 0:00:30\n",
      "   ------------------- -------------------- 1.0/2.2 MB 38.4 kB/s eta 0:00:30\n",
      "   ------------------- -------------------- 1.0/2.2 MB 38.4 kB/s eta 0:00:30\n",
      "   ------------------- -------------------- 1.0/2.2 MB 38.4 kB/s eta 0:00:30\n",
      "   ------------------- -------------------- 1.0/2.2 MB 38.4 kB/s eta 0:00:30\n",
      "   ------------------- -------------------- 1.0/2.2 MB 38.4 kB/s eta 0:00:30\n",
      "   ------------------- -------------------- 1.0/2.2 MB 38.4 kB/s eta 0:00:30\n",
      "   ------------------- -------------------- 1.0/2.2 MB 38.4 kB/s eta 0:00:30\n",
      "   ------------------- -------------------- 1.0/2.2 MB 38.4 kB/s eta 0:00:30\n",
      "   ------------------- -------------------- 1.0/2.2 MB 38.4 kB/s eta 0:00:30\n",
      "   ----------------------- ---------------- 1.3/2.2 MB 36.4 kB/s eta 0:00:25\n",
      "   ----------------------- ---------------- 1.3/2.2 MB 36.4 kB/s eta 0:00:25\n",
      "   ----------------------- ---------------- 1.3/2.2 MB 36.4 kB/s eta 0:00:25\n",
      "   ----------------------- ---------------- 1.3/2.2 MB 36.4 kB/s eta 0:00:25\n",
      "   ----------------------- ---------------- 1.3/2.2 MB 36.4 kB/s eta 0:00:25\n",
      "   ----------------------- ---------------- 1.3/2.2 MB 36.4 kB/s eta 0:00:25\n",
      "   ----------------------- ---------------- 1.3/2.2 MB 36.4 kB/s eta 0:00:25\n",
      "   ----------------------- ---------------- 1.3/2.2 MB 36.4 kB/s eta 0:00:25\n",
      "   ----------------------- ---------------- 1.3/2.2 MB 36.4 kB/s eta 0:00:25\n",
      "   ----------------------- ---------------- 1.3/2.2 MB 36.4 kB/s eta 0:00:25\n",
      "   ----------------------- ---------------- 1.3/2.2 MB 36.4 kB/s eta 0:00:25\n",
      "   ----------------------- ---------------- 1.3/2.2 MB 36.4 kB/s eta 0:00:25\n",
      "   ----------------------- ---------------- 1.3/2.2 MB 36.4 kB/s eta 0:00:25\n",
      "   ----------------------- ---------------- 1.3/2.2 MB 36.4 kB/s eta 0:00:25\n",
      "   ----------------------- ---------------- 1.3/2.2 MB 36.4 kB/s eta 0:00:25\n",
      "   ----------------------- ---------------- 1.3/2.2 MB 36.4 kB/s eta 0:00:25\n",
      "   ----------------------- ---------------- 1.3/2.2 MB 36.4 kB/s eta 0:00:25\n",
      "   ----------------------- ---------------- 1.3/2.2 MB 36.4 kB/s eta 0:00:25\n",
      "   ----------------------- ---------------- 1.3/2.2 MB 36.4 kB/s eta 0:00:25\n",
      "   ----------------------- ---------------- 1.3/2.2 MB 36.4 kB/s eta 0:00:25\n",
      "   ----------------------- ---------------- 1.3/2.2 MB 36.4 kB/s eta 0:00:25\n",
      "   ----------------------- ---------------- 1.3/2.2 MB 36.4 kB/s eta 0:00:25\n",
      "   ----------------------- ---------------- 1.3/2.2 MB 36.4 kB/s eta 0:00:25\n",
      "   ----------------------- ---------------- 1.3/2.2 MB 36.4 kB/s eta 0:00:25\n",
      "   ----------------------- ---------------- 1.3/2.2 MB 36.4 kB/s eta 0:00:25\n",
      "   ----------------------- ---------------- 1.3/2.2 MB 36.4 kB/s eta 0:00:25\n",
      "   ----------------------- ---------------- 1.3/2.2 MB 36.4 kB/s eta 0:00:25\n",
      "   ----------------------- ---------------- 1.3/2.2 MB 36.4 kB/s eta 0:00:25\n",
      "   ----------------------- ---------------- 1.3/2.2 MB 36.4 kB/s eta 0:00:25\n",
      "   ----------------------- ---------------- 1.3/2.2 MB 36.4 kB/s eta 0:00:25\n",
      "   ----------------------- ---------------- 1.3/2.2 MB 36.4 kB/s eta 0:00:25\n",
      "   ----------------------- ---------------- 1.3/2.2 MB 36.4 kB/s eta 0:00:25\n",
      "   ---------------------------- ----------- 1.6/2.2 MB 36.1 kB/s eta 0:00:18\n",
      "   ---------------------------- ----------- 1.6/2.2 MB 36.1 kB/s eta 0:00:18\n",
      "   ---------------------------- ----------- 1.6/2.2 MB 36.1 kB/s eta 0:00:18\n",
      "   ---------------------------- ----------- 1.6/2.2 MB 36.1 kB/s eta 0:00:18\n",
      "   ---------------------------- ----------- 1.6/2.2 MB 36.1 kB/s eta 0:00:18\n",
      "   ---------------------------- ----------- 1.6/2.2 MB 36.1 kB/s eta 0:00:18\n",
      "   ---------------------------- ----------- 1.6/2.2 MB 36.1 kB/s eta 0:00:18\n",
      "   ---------------------------- ----------- 1.6/2.2 MB 36.1 kB/s eta 0:00:18\n",
      "   ---------------------------- ----------- 1.6/2.2 MB 36.1 kB/s eta 0:00:18\n",
      "   ---------------------------- ----------- 1.6/2.2 MB 36.1 kB/s eta 0:00:18\n",
      "   ---------------------------- ----------- 1.6/2.2 MB 36.1 kB/s eta 0:00:18\n",
      "   ---------------------------- ----------- 1.6/2.2 MB 36.1 kB/s eta 0:00:18\n",
      "   ---------------------------- ----------- 1.6/2.2 MB 36.1 kB/s eta 0:00:18\n",
      "   ---------------------------- ----------- 1.6/2.2 MB 36.1 kB/s eta 0:00:18\n",
      "   ---------------------------- ----------- 1.6/2.2 MB 36.1 kB/s eta 0:00:18\n",
      "   ---------------------------- ----------- 1.6/2.2 MB 36.1 kB/s eta 0:00:18\n",
      "   ---------------------------- ----------- 1.6/2.2 MB 36.1 kB/s eta 0:00:18\n",
      "   ---------------------------- ----------- 1.6/2.2 MB 36.1 kB/s eta 0:00:18\n",
      "   ---------------------------- ----------- 1.6/2.2 MB 36.1 kB/s eta 0:00:18\n",
      "   ---------------------------- ----------- 1.6/2.2 MB 36.1 kB/s eta 0:00:18\n",
      "   ---------------------------- ----------- 1.6/2.2 MB 36.1 kB/s eta 0:00:18\n",
      "   ---------------------------- ----------- 1.6/2.2 MB 36.1 kB/s eta 0:00:18\n",
      "   ---------------------------- ----------- 1.6/2.2 MB 36.1 kB/s eta 0:00:18\n",
      "   ---------------------------- ----------- 1.6/2.2 MB 36.1 kB/s eta 0:00:18\n",
      "   ---------------------------- ----------- 1.6/2.2 MB 36.1 kB/s eta 0:00:18\n",
      "   ---------------------------- ----------- 1.6/2.2 MB 36.1 kB/s eta 0:00:18\n",
      "   --------------------------------- ------ 1.8/2.2 MB 38.5 kB/s eta 0:00:10\n",
      "   --------------------------------- ------ 1.8/2.2 MB 38.5 kB/s eta 0:00:10\n",
      "   --------------------------------- ------ 1.8/2.2 MB 38.5 kB/s eta 0:00:10\n",
      "   --------------------------------- ------ 1.8/2.2 MB 38.5 kB/s eta 0:00:10\n",
      "   --------------------------------- ------ 1.8/2.2 MB 38.5 kB/s eta 0:00:10\n",
      "   --------------------------------- ------ 1.8/2.2 MB 38.5 kB/s eta 0:00:10\n",
      "   --------------------------------- ------ 1.8/2.2 MB 38.5 kB/s eta 0:00:10\n",
      "   --------------------------------- ------ 1.8/2.2 MB 38.5 kB/s eta 0:00:10\n",
      "   --------------------------------- ------ 1.8/2.2 MB 38.5 kB/s eta 0:00:10\n",
      "   --------------------------------- ------ 1.8/2.2 MB 38.5 kB/s eta 0:00:10\n",
      "   --------------------------------- ------ 1.8/2.2 MB 38.5 kB/s eta 0:00:10\n",
      "   --------------------------------- ------ 1.8/2.2 MB 38.5 kB/s eta 0:00:10\n",
      "   --------------------------------- ------ 1.8/2.2 MB 38.5 kB/s eta 0:00:10\n",
      "   --------------------------------- ------ 1.8/2.2 MB 38.5 kB/s eta 0:00:10\n",
      "   --------------------------------- ------ 1.8/2.2 MB 38.5 kB/s eta 0:00:10\n",
      "   --------------------------------- ------ 1.8/2.2 MB 38.5 kB/s eta 0:00:10\n",
      "   --------------------------------- ------ 1.8/2.2 MB 38.5 kB/s eta 0:00:10\n",
      "   --------------------------------- ------ 1.8/2.2 MB 38.5 kB/s eta 0:00:10\n",
      "   --------------------------------- ------ 1.8/2.2 MB 38.5 kB/s eta 0:00:10\n",
      "   --------------------------------- ------ 1.8/2.2 MB 38.5 kB/s eta 0:00:10\n",
      "   --------------------------------- ------ 1.8/2.2 MB 38.5 kB/s eta 0:00:10\n",
      "   --------------------------------- ------ 1.8/2.2 MB 38.5 kB/s eta 0:00:10\n",
      "   --------------------------------- ------ 1.8/2.2 MB 38.5 kB/s eta 0:00:10\n",
      "   --------------------------------- ------ 1.8/2.2 MB 38.5 kB/s eta 0:00:10\n",
      "   --------------------------------- ------ 1.8/2.2 MB 38.5 kB/s eta 0:00:10\n",
      "   --------------------------------- ------ 1.8/2.2 MB 38.5 kB/s eta 0:00:10\n",
      "   --------------------------------- ------ 1.8/2.2 MB 38.5 kB/s eta 0:00:10\n",
      "   --------------------------------- ------ 1.8/2.2 MB 38.5 kB/s eta 0:00:10\n",
      "   --------------------------------- ------ 1.8/2.2 MB 38.5 kB/s eta 0:00:10\n",
      "   --------------------------------- ------ 1.8/2.2 MB 38.5 kB/s eta 0:00:10\n",
      "   --------------------------------- ------ 1.8/2.2 MB 38.5 kB/s eta 0:00:10\n",
      "   --------------------------------- ------ 1.8/2.2 MB 38.5 kB/s eta 0:00:10\n",
      "   --------------------------------- ------ 1.8/2.2 MB 38.5 kB/s eta 0:00:10\n",
      "   -------------------------------------- - 2.1/2.2 MB 38.5 kB/s eta 0:00:03\n",
      "   -------------------------------------- - 2.1/2.2 MB 38.5 kB/s eta 0:00:03\n",
      "   -------------------------------------- - 2.1/2.2 MB 38.5 kB/s eta 0:00:03\n",
      "   -------------------------------------- - 2.1/2.2 MB 38.5 kB/s eta 0:00:03\n",
      "   -------------------------------------- - 2.1/2.2 MB 38.5 kB/s eta 0:00:03\n",
      "   -------------------------------------- - 2.1/2.2 MB 38.5 kB/s eta 0:00:03\n",
      "   ---------------------------------------- 2.2/2.2 MB 40.2 kB/s eta 0:00:00\n",
      "Installing collected packages: widgetsnbextension, jupyterlab_widgets, ipywidgets\n",
      "\n",
      "   ---------------------------------------- 0/3 [widgetsnbextension]\n",
      "   ------------- -------------------------- 1/3 [jupyterlab_widgets]\n",
      "   -------------------------- ------------- 2/3 [ipywidgets]\n",
      "   -------------------------- ------------- 2/3 [ipywidgets]\n",
      "   -------------------------- ------------- 2/3 [ipywidgets]\n",
      "   -------------------------- ------------- 2/3 [ipywidgets]\n",
      "   -------------------------- ------------- 2/3 [ipywidgets]\n",
      "   -------------------------- ------------- 2/3 [ipywidgets]\n",
      "   -------------------------- ------------- 2/3 [ipywidgets]\n",
      "   -------------------------- ------------- 2/3 [ipywidgets]\n",
      "   -------------------------- ------------- 2/3 [ipywidgets]\n",
      "   -------------------------- ------------- 2/3 [ipywidgets]\n",
      "   -------------------------- ------------- 2/3 [ipywidgets]\n",
      "   -------------------------- ------------- 2/3 [ipywidgets]\n",
      "   ---------------------------------------- 3/3 [ipywidgets]\n",
      "\n",
      "Successfully installed ipywidgets-8.1.7 jupyterlab_widgets-3.0.15 widgetsnbextension-4.0.14\n",
      "Note: you may need to restart the kernel to use updated packages.\n"
     ]
    },
    {
     "name": "stderr",
     "output_type": "stream",
     "text": [
      "\n",
      "[notice] A new release of pip is available: 25.1.1 -> 25.2\n",
      "[notice] To update, run: python.exe -m pip install --upgrade pip\n"
     ]
    }
   ],
   "source": [
    "#%pip install ipywidgets"
   ]
  },
  {
   "cell_type": "code",
   "execution_count": null,
   "id": "79fb57bb",
   "metadata": {},
   "outputs": [
    {
     "name": "stderr",
     "output_type": "stream",
     "text": [
      "c:\\Users\\ASTU-PG\\Intelligent-Complaint-Analysis-FinancialServices\\.ienv\\Lib\\site-packages\\tqdm\\auto.py:21: TqdmWarning: IProgress not found. Please update jupyter and ipywidgets. See https://ipywidgets.readthedocs.io/en/stable/user_install.html\n",
      "  from .autonotebook import tqdm as notebook_tqdm\n"
     ]
    }
   ],
   "source": [
    "import pandas as pd\n",
    "import numpy as np\n",
    "from langchain.text_splitter import RecursiveCharacterTextSplitter\n",
    "from sentence_transformers import SentenceTransformer\n",
    "from faiss import IndexFlatL2\n",
    "import pickle\n",
    "from pathlib import Path\n",
    "import uuid\n",
    "import os\n",
    "import sys"
   ]
  },
  {
   "cell_type": "code",
   "execution_count": 9,
   "id": "727018a9",
   "metadata": {},
   "outputs": [],
   "source": [
    "sys.path.append(os.path.abspath('../src/'))"
   ]
  },
  {
   "cell_type": "code",
   "execution_count": 12,
   "id": "bd76525f",
   "metadata": {},
   "outputs": [
    {
     "ename": "ModuleNotFoundError",
     "evalue": "No module named 'src'",
     "output_type": "error",
     "traceback": [
      "\u001b[31m---------------------------------------------------------------------------\u001b[39m",
      "\u001b[31mModuleNotFoundError\u001b[39m                       Traceback (most recent call last)",
      "\u001b[36mCell\u001b[39m\u001b[36m \u001b[39m\u001b[32mIn[12]\u001b[39m\u001b[32m, line 1\u001b[39m\n\u001b[32m----> \u001b[39m\u001b[32m1\u001b[39m \u001b[38;5;28;01mfrom\u001b[39;00m\u001b[38;5;250m \u001b[39m\u001b[34;01mdata_process\u001b[39;00m\u001b[38;5;250m \u001b[39m\u001b[38;5;28;01mimport\u001b[39;00m data_loader\n\u001b[32m      2\u001b[39m \u001b[38;5;28;01mfrom\u001b[39;00m\u001b[38;5;250m \u001b[39m\u001b[34;01mtext_chunker\u001b[39;00m\u001b[38;5;250m \u001b[39m\u001b[38;5;28;01mimport\u001b[39;00m chunk_narratives\n",
      "\u001b[36mFile \u001b[39m\u001b[32mc:\\Users\\ASTU-PG\\Intelligent-Complaint-Analysis-FinancialServices\\src\\data_process.py:3\u001b[39m\n\u001b[32m      1\u001b[39m \u001b[38;5;28;01mimport\u001b[39;00m\u001b[38;5;250m \u001b[39m\u001b[34;01mpandas\u001b[39;00m\u001b[38;5;250m \u001b[39m\u001b[38;5;28;01mas\u001b[39;00m\u001b[38;5;250m \u001b[39m\u001b[34;01mpd\u001b[39;00m\n\u001b[32m      2\u001b[39m \u001b[38;5;28;01mimport\u001b[39;00m\u001b[38;5;250m \u001b[39m\u001b[34;01mos\u001b[39;00m\n\u001b[32m----> \u001b[39m\u001b[32m3\u001b[39m \u001b[38;5;28;01mfrom\u001b[39;00m\u001b[38;5;250m \u001b[39m\u001b[34;01msrc\u001b[39;00m\u001b[34;01m.\u001b[39;00m\u001b[34;01mloggers\u001b[39;00m\u001b[38;5;250m \u001b[39m\u001b[38;5;28;01mimport\u001b[39;00m get_logger\n\u001b[32m      4\u001b[39m \u001b[38;5;28;01mimport\u001b[39;00m\u001b[38;5;250m \u001b[39m\u001b[34;01mre\u001b[39;00m\n\u001b[32m      5\u001b[39m \u001b[38;5;28;01mimport\u001b[39;00m\u001b[38;5;250m \u001b[39m\u001b[34;01mnumpy\u001b[39;00m\u001b[38;5;250m \u001b[39m\u001b[38;5;28;01mas\u001b[39;00m\u001b[38;5;250m \u001b[39m\u001b[34;01mnp\u001b[39;00m\n",
      "\u001b[31mModuleNotFoundError\u001b[39m: No module named 'src'"
     ]
    }
   ],
   "source": [
    "from data_process import data_loader\n",
    "from text_chunker import chunk_narratives"
   ]
  },
  {
   "cell_type": "code",
   "execution_count": null,
   "id": "e7881c40",
   "metadata": {},
   "outputs": [],
   "source": []
  },
  {
   "cell_type": "code",
   "execution_count": 7,
   "id": "7c9b8473",
   "metadata": {},
   "outputs": [
    {
     "name": "stdout",
     "output_type": "stream",
     "text": [
      "2025-07-11 11:21:58,027 - INFO - Data loaded successfully from ../data/processed/filtered_complaints.csv\n"
     ]
    }
   ],
   "source": [
    "df = data_loader('../data/processed/filtered_complaints.csv')"
   ]
  },
  {
   "cell_type": "code",
   "execution_count": 8,
   "id": "62c0def5",
   "metadata": {},
   "outputs": [],
   "source": [
    "# 1. Text Chunking\n",
    "text_splitter = RecursiveCharacterTextSplitter(\n",
    "    chunk_size=500,  # ~100-150 words, suitable for coherent complaint segments\n",
    "    chunk_overlap=50,  # Small overlap to maintain context across chunks\n",
    "    length_function=len,\n",
    "    separators=[\"\\n\\n\", \"\\n\", \". \", \" \", \"\"]\n",
    ")"
   ]
  },
  {
   "cell_type": "code",
   "execution_count": 9,
   "id": "8016651e",
   "metadata": {},
   "outputs": [
    {
     "name": "stdout",
     "output_type": "stream",
     "text": [
      "Total chunks created: 15055\n"
     ]
    }
   ],
   "source": [
    "# Generate chunks\n",
    "chunks, metadata = chunk_narratives(df, text_splitter)\n",
    "print(f\"Total chunks created: {len(chunks)}\")"
   ]
  },
  {
   "cell_type": "code",
   "execution_count": 10,
   "id": "753b7b80",
   "metadata": {},
   "outputs": [
    {
     "name": "stderr",
     "output_type": "stream",
     "text": [
      "c:\\Users\\Tegbabu\\Intelligent-Complaint-Analysis-FinancialServices\\.ienv\\Lib\\site-packages\\huggingface_hub\\file_download.py:143: UserWarning: `huggingface_hub` cache-system uses symlinks by default to efficiently store duplicated files but your machine does not support them in C:\\Users\\Tegbabu\\.cache\\huggingface\\hub\\models--sentence-transformers--all-MiniLM-L6-v2. Caching files will still work but in a degraded version that might require more space on your disk. This warning can be disabled by setting the `HF_HUB_DISABLE_SYMLINKS_WARNING` environment variable. For more details, see https://huggingface.co/docs/huggingface_hub/how-to-cache#limitations.\n",
      "To support symlinks on Windows, you either need to activate Developer Mode or to run Python as an administrator. In order to activate developer mode, see this article: https://docs.microsoft.com/en-us/windows/apps/get-started/enable-your-device-for-development\n",
      "  warnings.warn(message)\n",
      "Batches: 100%|██████████| 471/471 [3:46:06<00:00, 28.80s/it]  \n"
     ]
    },
    {
     "name": "stdout",
     "output_type": "stream",
     "text": [
      "Embedding shape: (15055, 384)\n"
     ]
    }
   ],
   "source": [
    "# 2. Generate Embeddings\n",
    "embedding_model = SentenceTransformer('sentence-transformers/all-MiniLM-L6-v2')\n",
    "embeddings = embedding_model.encode(chunks, batch_size=32, show_progress_bar=True)\n",
    "print(f\"Embedding shape: {embeddings.shape}\")"
   ]
  },
  {
   "cell_type": "code",
   "execution_count": 18,
   "id": "1b253f13",
   "metadata": {},
   "outputs": [],
   "source": [
    "embedding_model.save('../models/all-MiniLM-L6-v2')"
   ]
  },
  {
   "cell_type": "code",
   "execution_count": 11,
   "id": "28935a50",
   "metadata": {},
   "outputs": [],
   "source": [
    "# 3. Create and Populate FAISS Index\n",
    "dimension = embeddings.shape[1]\n",
    "index = IndexFlatL2(dimension)\n",
    "index.add(embeddings)"
   ]
  },
  {
   "cell_type": "code",
   "execution_count": 12,
   "id": "1d6eb971",
   "metadata": {},
   "outputs": [],
   "source": [
    "# 4. Save Vector Store and Metadata\n",
    "vector_store_path = '../vector_store/faiss_index.bin'\n",
    "metadata_path = '../vector_store/metadata.pkl'"
   ]
  },
  {
   "cell_type": "code",
   "execution_count": 13,
   "id": "f1264259",
   "metadata": {},
   "outputs": [],
   "source": [
    "# Save FAISS index\n",
    "with open(vector_store_path, 'wb') as f:\n",
    "    pickle.dump(index, f)"
   ]
  },
  {
   "cell_type": "code",
   "execution_count": 14,
   "id": "9d831d01",
   "metadata": {},
   "outputs": [],
   "source": [
    "# Save metadata\n",
    "with open(metadata_path, 'wb') as f:\n",
    "    pickle.dump({'chunks': chunks, 'metadata': metadata}, f)"
   ]
  },
  {
   "cell_type": "code",
   "execution_count": 15,
   "id": "45207ae3",
   "metadata": {},
   "outputs": [
    {
     "name": "stdout",
     "output_type": "stream",
     "text": [
      "Vector store saved to: ../vector_store/faiss_index.bin\n",
      "Metadata saved to: ../vector_store/metadata.pkl\n"
     ]
    }
   ],
   "source": [
    "print(f\"Vector store saved to: {vector_store_path}\")\n",
    "print(f\"Metadata saved to: {metadata_path}\")"
   ]
  },
  {
   "cell_type": "code",
   "execution_count": 16,
   "id": "c916eaed",
   "metadata": {},
   "outputs": [
    {
     "name": "stdout",
     "output_type": "stream",
     "text": [
      "<class 'pandas.core.frame.DataFrame'>\n",
      "RangeIndex: 4541 entries, 0 to 4540\n",
      "Data columns (total 7 columns):\n",
      " #   Column                        Non-Null Count  Dtype \n",
      "---  ------                        --------------  ----- \n",
      " 0   Consumer complaint narrative  4541 non-null   object\n",
      " 1   Product                       4541 non-null   object\n",
      " 2   Issue                         4541 non-null   object\n",
      " 3   Company                       4541 non-null   object\n",
      " 4   Date received                 4541 non-null   object\n",
      " 5   narrative_length              4541 non-null   int64 \n",
      " 6   cleaned_narrative             4541 non-null   object\n",
      "dtypes: int64(1), object(6)\n",
      "memory usage: 248.5+ KB\n"
     ]
    }
   ],
   "source": [
    "df.info()"
   ]
  },
  {
   "cell_type": "code",
   "execution_count": 17,
   "id": "de9fb76e",
   "metadata": {},
   "outputs": [
    {
     "name": "stdout",
     "output_type": "stream",
     "text": [
      "Sample chunks saved to: ../vector_store/sample_chunks.csv\n"
     ]
    }
   ],
   "source": [
    "# Save a sample of chunks for verification\n",
    "sample_chunks = pd.DataFrame({\n",
    "    'chunk_id': [m['chunk_id'] for m in metadata],\n",
    "    'product': [m['product'] for m in metadata],\n",
    "    'chunk_text': chunks\n",
    "})\n",
    "sample_chunks.head(10).to_csv('../vector_store/sample_chunks.csv', index=False)\n",
    "print(f\"Sample chunks saved to: {'../vector_store/sample_chunks.csv'}\")"
   ]
  },
  {
   "cell_type": "markdown",
   "id": "2c2938e7",
   "metadata": {},
   "source": [
    "### Report Section: Chunking Strategy and Embedding Model Choice\n",
    "\n",
    "For the text chunking strategy, I utilized LangChain's RecursiveCharacterTextSplitter with a chunk_size of 500 characters and a chunk_overlap of 50 characters. The chunk size was chosen to balance capturing coherent segments of complaint narratives (approximately 100-150 words) while ensuring embeddings remain semantically meaningful. Complaints often contain distinct issues (e.g., billing disputes, customer service issues), and smaller chunks help isolate these for better retrieval precision. \n",
    "The overlap of 50 characters maintains context across chunk boundaries, especially for narratives split mid-sentence. I experimented with larger chunk sizes (e.g., 1000 characters), but they risked diluting specific issues in longer narratives, while smaller chunks (e.g., 200 characters) fragmented context excessively. The chosen parameters were validated by inspecting sample chunks, ensuring they retained meaningful complaint details.\n",
    "\n",
    "The sentence-transformers/all-MiniLM-L6-v2 model was selected for embedding due to its efficiency and performance in semantic similarity tasks. This lightweight model (22M parameters, 384-dimensional embeddings) is optimized for short text, making it ideal for complaint narratives, which are typically concise yet descriptive. It provides a good balance between embedding quality and computational efficiency, suitable for indexing large datasets like the CFPB complaints. The model’s pre-training on diverse datasets ensures robust handling of financial terminology and consumer language. \n",
    "FAISS was chosen for the vector store due to its speed and scalability for similarity search, with metadata (complaint ID, product, chunk ID) stored alongside each embedding to enable traceability to the original complaint. The vector store and metadata are persisted in the vector_store/ directory for downstream retrieval tasks."
   ]
  }
 ],
 "metadata": {
  "kernelspec": {
   "display_name": ".ienv",
   "language": "python",
   "name": "python3"
  },
  "language_info": {
   "codemirror_mode": {
    "name": "ipython",
    "version": 3
   },
   "file_extension": ".py",
   "mimetype": "text/x-python",
   "name": "python",
   "nbconvert_exporter": "python",
   "pygments_lexer": "ipython3",
   "version": "3.12.10"
  }
 },
 "nbformat": 4,
 "nbformat_minor": 5
}
