{
 "cells": [
  {
   "cell_type": "markdown",
   "id": "629bb36b",
   "metadata": {},
   "source": [
    "### Import Library"
   ]
  },
  {
   "cell_type": "code",
   "execution_count": 4,
   "id": "bd438769",
   "metadata": {},
   "outputs": [],
   "source": [
    "%load_ext autoreload\n",
    "%autoreload 2"
   ]
  },
  {
   "cell_type": "code",
   "execution_count": 5,
   "id": "86e86b5e",
   "metadata": {},
   "outputs": [],
   "source": [
    "%reload_ext autoreload"
   ]
  },
  {
   "cell_type": "code",
   "execution_count": 6,
   "id": "fb437367",
   "metadata": {},
   "outputs": [],
   "source": [
    "import pandas as pd\n",
    "import matplotlib.pyplot as plt\n",
    "import seaborn as sns\n",
    "import re\n",
    "from pathlib import Path\n",
    "import os\n",
    "import sys"
   ]
  },
  {
   "cell_type": "code",
   "execution_count": 7,
   "id": "9ab0d0ac",
   "metadata": {},
   "outputs": [],
   "source": [
    "sys.path.append(os.path.abspath('../src/'))"
   ]
  },
  {
   "cell_type": "markdown",
   "id": "43114fc9",
   "metadata": {},
   "source": [
    "### 1. Prepare and Load the dataset"
   ]
  },
  {
   "cell_type": "markdown",
   "id": "5dbefe36",
   "metadata": {},
   "source": [
    "##### import the dataloader"
   ]
  },
  {
   "cell_type": "code",
   "execution_count": 8,
   "id": "b2dda459",
   "metadata": {},
   "outputs": [],
   "source": [
    "from data_process import data_loader, random_sample_large_csv"
   ]
  },
  {
   "cell_type": "code",
   "execution_count": 6,
   "id": "e2a13c75",
   "metadata": {},
   "outputs": [
    {
     "name": "stdout",
     "output_type": "stream",
     "text": [
      "2025-07-10 14:12:40,538 - INFO - 🔄 Reading chunk 1\n",
      "2025-07-10 14:12:40,705 - INFO - ✅ Sampled 50000 rows from chunk 1 (Total: 50000)\n",
      "2025-07-10 14:12:43,767 - INFO - 🔄 Reading chunk 2\n",
      "2025-07-10 14:12:43,879 - INFO - ✅ Sampled 50000 rows from chunk 2 (Total: 100000)\n",
      "2025-07-10 14:12:45,320 - INFO - 🔄 Reading chunk 3\n",
      "2025-07-10 14:12:45,447 - INFO - ✅ Sampled 50000 rows from chunk 3 (Total: 150000)\n",
      "2025-07-10 14:12:46,867 - INFO - 🔄 Reading chunk 4\n",
      "2025-07-10 14:12:46,989 - INFO - ✅ Sampled 50000 rows from chunk 4 (Total: 200000)\n",
      "2025-07-10 14:12:48,485 - INFO - 🔄 Reading chunk 5\n"
     ]
    },
    {
     "name": "stderr",
     "output_type": "stream",
     "text": [
      "c:\\Users\\Tegbabu\\Intelligent-Complaint-Analysis-FinancialServices\\src\\data_process.py:64: DtypeWarning: Columns (16) have mixed types. Specify dtype option on import or set low_memory=False.\n",
      "  for i, chunk in enumerate(pd.read_csv(input_path, chunksize=chunk_size, encoding='utf-8', on_bad_lines='skip')):\n"
     ]
    },
    {
     "name": "stdout",
     "output_type": "stream",
     "text": [
      "2025-07-10 14:12:48,684 - INFO - ✅ Sampled 50000 rows from chunk 5 (Total: 250000)\n",
      "2025-07-10 14:12:51,712 - INFO - 🔄 Reading chunk 6\n",
      "2025-07-10 14:12:51,931 - INFO - ✅ Sampled 50000 rows from chunk 6 (Total: 300000)\n",
      "2025-07-10 14:12:53,843 - INFO - 🔄 Reading chunk 7\n",
      "2025-07-10 14:12:54,083 - INFO - ✅ Sampled 50000 rows from chunk 7 (Total: 350000)\n",
      "2025-07-10 14:12:56,192 - INFO - 🔄 Reading chunk 8\n",
      "2025-07-10 14:12:56,294 - INFO - ✅ Sampled 50000 rows from chunk 8 (Total: 400000)\n",
      "2025-07-10 14:12:59,428 - INFO - 🔄 Reading chunk 9\n",
      "2025-07-10 14:12:59,611 - INFO - ✅ Sampled 50000 rows from chunk 9 (Total: 450000)\n",
      "2025-07-10 14:13:01,848 - INFO - 🔄 Reading chunk 10\n",
      "2025-07-10 14:13:02,010 - INFO - ✅ Sampled 50000 rows from chunk 10 (Total: 500000)\n",
      "2025-07-10 14:13:04,022 - INFO - 🔄 Reading chunk 11\n",
      "2025-07-10 14:13:04,176 - INFO - ✅ Sampled 50000 rows from chunk 11 (Total: 550000)\n",
      "2025-07-10 14:13:06,112 - INFO - 🔄 Reading chunk 12\n",
      "2025-07-10 14:13:06,329 - INFO - ✅ Sampled 50000 rows from chunk 12 (Total: 600000)\n",
      "2025-07-10 14:13:10,479 - INFO - 🔄 Reading chunk 13\n",
      "2025-07-10 14:13:10,770 - INFO - ✅ Sampled 50000 rows from chunk 13 (Total: 650000)\n",
      "2025-07-10 14:13:14,770 - INFO - 🔄 Reading chunk 14\n",
      "2025-07-10 14:13:14,836 - INFO - ✅ Sampled 50000 rows from chunk 14 (Total: 700000)\n",
      "2025-07-10 14:13:16,991 - INFO - 🔄 Reading chunk 15\n",
      "2025-07-10 14:13:17,043 - INFO - ✅ Sampled 50000 rows from chunk 15 (Total: 750000)\n",
      "2025-07-10 14:13:19,293 - INFO - 🔄 Reading chunk 16\n",
      "2025-07-10 14:13:19,380 - INFO - ✅ Sampled 50000 rows from chunk 16 (Total: 800000)\n",
      "2025-07-10 14:13:22,874 - INFO - 🔄 Reading chunk 17\n",
      "2025-07-10 14:13:23,283 - INFO - ✅ Sampled 50000 rows from chunk 17 (Total: 850000)\n",
      "2025-07-10 14:13:27,290 - INFO - 🔄 Reading chunk 18\n",
      "2025-07-10 14:13:27,540 - INFO - ✅ Sampled 50000 rows from chunk 18 (Total: 900000)\n",
      "2025-07-10 14:13:29,769 - INFO - 🔄 Reading chunk 19\n",
      "2025-07-10 14:13:29,995 - INFO - ✅ Sampled 50000 rows from chunk 19 (Total: 950000)\n",
      "2025-07-10 14:13:33,216 - INFO - 🔄 Reading chunk 20\n",
      "2025-07-10 14:13:33,391 - INFO - ✅ Sampled 50000 rows from chunk 20 (Total: 1000000)\n",
      "2025-07-10 14:13:33,414 - INFO - 🎯 Reached 1,0000,000 sampled rows. Stopping.\n",
      "2025-07-10 14:14:31,289 - INFO - ✅ Final sampled dataset saved to ../data/processed_complaints.csv with 1000000 rows\n"
     ]
    }
   ],
   "source": [
    "input_file = \"../data/complaints.csv\"\n",
    "output_file = \"../data/processed_complaints.csv\"\n",
    "\n",
    "# Ensure output directory exists\n",
    "os.makedirs(os.path.dirname(output_file), exist_ok=True)\n",
    "\n",
    "# Process the large CSV file\n",
    "random_sample_large_csv(input_file, output_file, chunk_size=50_000, target_rows=1_000_000)"
   ]
  },
  {
   "cell_type": "code",
   "execution_count": 9,
   "id": "4a2bdc32",
   "metadata": {},
   "outputs": [
    {
     "name": "stdout",
     "output_type": "stream",
     "text": [
      "2025-07-10 14:27:33,250 - INFO - Data loaded successfully from ../data/processed_complaints.csv\n"
     ]
    }
   ],
   "source": [
    "df = data_loader('../data/processed_complaints.csv')"
   ]
  },
  {
   "cell_type": "code",
   "execution_count": 10,
   "id": "72c3b7d2",
   "metadata": {},
   "outputs": [
    {
     "data": {
      "text/html": [
       "<div>\n",
       "<style scoped>\n",
       "    .dataframe tbody tr th:only-of-type {\n",
       "        vertical-align: middle;\n",
       "    }\n",
       "\n",
       "    .dataframe tbody tr th {\n",
       "        vertical-align: top;\n",
       "    }\n",
       "\n",
       "    .dataframe thead th {\n",
       "        text-align: right;\n",
       "    }\n",
       "</style>\n",
       "<table border=\"1\" class=\"dataframe\">\n",
       "  <thead>\n",
       "    <tr style=\"text-align: right;\">\n",
       "      <th></th>\n",
       "      <th>Consumer complaint narrative</th>\n",
       "      <th>Product</th>\n",
       "      <th>Issue</th>\n",
       "      <th>Company</th>\n",
       "      <th>Date received</th>\n",
       "    </tr>\n",
       "  </thead>\n",
       "  <tbody>\n",
       "    <tr>\n",
       "      <th>0</th>\n",
       "      <td>Sallie Mae charged off my debt, then sold it t...</td>\n",
       "      <td>Debt collection</td>\n",
       "      <td>Written notification about debt</td>\n",
       "      <td>SLM CORPORATION</td>\n",
       "      <td>2025-06-05</td>\n",
       "    </tr>\n",
       "    <tr>\n",
       "      <th>1</th>\n",
       "      <td>NaN</td>\n",
       "      <td>Debt collection</td>\n",
       "      <td>Attempts to collect debt not owed</td>\n",
       "      <td>EQUIFAX, INC.</td>\n",
       "      <td>2025-06-20</td>\n",
       "    </tr>\n",
       "    <tr>\n",
       "      <th>2</th>\n",
       "      <td>NaN</td>\n",
       "      <td>Credit reporting or other personal consumer re...</td>\n",
       "      <td>Improper use of your report</td>\n",
       "      <td>TRANSUNION INTERMEDIATE HOLDINGS, INC.</td>\n",
       "      <td>2025-06-20</td>\n",
       "    </tr>\n",
       "    <tr>\n",
       "      <th>3</th>\n",
       "      <td>NaN</td>\n",
       "      <td>Credit reporting or other personal consumer re...</td>\n",
       "      <td>Incorrect information on your report</td>\n",
       "      <td>Experian Information Solutions Inc.</td>\n",
       "      <td>2025-06-19</td>\n",
       "    </tr>\n",
       "    <tr>\n",
       "      <th>4</th>\n",
       "      <td>NaN</td>\n",
       "      <td>Credit reporting or other personal consumer re...</td>\n",
       "      <td>Incorrect information on your report</td>\n",
       "      <td>Experian Information Solutions Inc.</td>\n",
       "      <td>2025-06-18</td>\n",
       "    </tr>\n",
       "  </tbody>\n",
       "</table>\n",
       "</div>"
      ],
      "text/plain": [
       "                        Consumer complaint narrative  \\\n",
       "0  Sallie Mae charged off my debt, then sold it t...   \n",
       "1                                                NaN   \n",
       "2                                                NaN   \n",
       "3                                                NaN   \n",
       "4                                                NaN   \n",
       "\n",
       "                                             Product  \\\n",
       "0                                    Debt collection   \n",
       "1                                    Debt collection   \n",
       "2  Credit reporting or other personal consumer re...   \n",
       "3  Credit reporting or other personal consumer re...   \n",
       "4  Credit reporting or other personal consumer re...   \n",
       "\n",
       "                                  Issue  \\\n",
       "0       Written notification about debt   \n",
       "1     Attempts to collect debt not owed   \n",
       "2           Improper use of your report   \n",
       "3  Incorrect information on your report   \n",
       "4  Incorrect information on your report   \n",
       "\n",
       "                                  Company Date received  \n",
       "0                         SLM CORPORATION    2025-06-05  \n",
       "1                           EQUIFAX, INC.    2025-06-20  \n",
       "2  TRANSUNION INTERMEDIATE HOLDINGS, INC.    2025-06-20  \n",
       "3     Experian Information Solutions Inc.    2025-06-19  \n",
       "4     Experian Information Solutions Inc.    2025-06-18  "
      ]
     },
     "execution_count": 10,
     "metadata": {},
     "output_type": "execute_result"
    }
   ],
   "source": [
    "df.head()"
   ]
  },
  {
   "cell_type": "markdown",
   "id": "4be91bf6",
   "metadata": {},
   "source": [
    "### 2. Initial EDA"
   ]
  },
  {
   "cell_type": "code",
   "execution_count": 11,
   "id": "8bd9f6b8",
   "metadata": {},
   "outputs": [
    {
     "name": "stdout",
     "output_type": "stream",
     "text": [
      "Dataset Shape: (1000000, 5)\n",
      "\n",
      "Column Names: ['Consumer complaint narrative', 'Product', 'Issue', 'Company', 'Date received']\n",
      "\n",
      "Missing Values:\n",
      " Consumer complaint narrative    853811\n",
      "Product                              0\n",
      "Issue                                0\n",
      "Company                              0\n",
      "Date received                        0\n",
      "dtype: int64\n",
      "\n",
      "Data Types:\n",
      " Consumer complaint narrative    object\n",
      "Product                         object\n",
      "Issue                           object\n",
      "Company                         object\n",
      "Date received                   object\n",
      "dtype: object\n"
     ]
    }
   ],
   "source": [
    "print(\"Dataset Shape:\", df.shape)\n",
    "print(\"\\nColumn Names:\", df.columns.tolist())\n",
    "print(\"\\nMissing Values:\\n\", df.isnull().sum())\n",
    "print(\"\\nData Types:\\n\", df.dtypes)"
   ]
  },
  {
   "cell_type": "markdown",
   "id": "de442906",
   "metadata": {},
   "source": [
    "### 3. Analyze distribution of complaints across Products"
   ]
  },
  {
   "cell_type": "code",
   "execution_count": 12,
   "id": "a71cb3f0",
   "metadata": {},
   "outputs": [
    {
     "data": {
      "image/png": "[encoded data removed]",
      "text/plain": [
       "<Figure size 1000x600 with 1 Axes>"
      ]
     },
     "metadata": {},
     "output_type": "display_data"
    }
   ],
   "source": [
    "product_counts = df['Product'].value_counts()\n",
    "plt.figure(figsize=(10, 6))\n",
    "sns.barplot(x=product_counts.values, y=product_counts.index)\n",
    "plt.title('Distribution of Complaints by Product')\n",
    "plt.xlabel('Number of Complaints')\n",
    "plt.ylabel('Product')\n",
    "plt.tight_layout()\n",
    "plt.show()"
   ]
  },
  {
   "cell_type": "markdown",
   "id": "2ec6c48e",
   "metadata": {},
   "source": [
    "### 4. Calculate and visualize narrative length"
   ]
  },
  {
   "cell_type": "code",
   "execution_count": 13,
   "id": "1b4ce250",
   "metadata": {},
   "outputs": [
    {
     "data": {
      "image/png": "[encoded data removed]",
      "text/plain": [
       "<Figure size 1000x600 with 1 Axes>"
      ]
     },
     "metadata": {},
     "output_type": "display_data"
    }
   ],
   "source": [
    "df['narrative_length'] = df['Consumer complaint narrative'].apply(lambda x: len(str(x).split()) if pd.notnull(x) else 0)\n",
    "plt.figure(figsize=(10, 6))\n",
    "sns.histplot(df['narrative_length'], bins=50)\n",
    "plt.title('Distribution of Complaint Narrative Lengths (Word Count)')\n",
    "plt.xlabel('Word Count')\n",
    "plt.ylabel('Frequency')\n",
    "plt.tight_layout()\n",
    "plt.show()"
   ]
  },
  {
   "cell_type": "code",
   "execution_count": 14,
   "id": "f549e81f",
   "metadata": {},
   "outputs": [
    {
     "name": "stdout",
     "output_type": "stream",
     "text": [
      "\n",
      "Narrative Length Statistics:\n",
      "count    1000000.000000\n",
      "mean          24.474938\n",
      "std           94.053340\n",
      "min            0.000000\n",
      "25%            0.000000\n",
      "50%            0.000000\n",
      "75%            0.000000\n",
      "max         6291.000000\n",
      "Name: narrative_length, dtype: float64\n",
      "\n",
      "Very short narratives (<10 words): 854207\n",
      "Very long narratives (>500 words): 6186\n"
     ]
    }
   ],
   "source": [
    "# Print narrative length statistics\n",
    "print(\"\\nNarrative Length Statistics:\")\n",
    "print(df['narrative_length'].describe())\n",
    "print(f\"\\nVery short narratives (<10 words): {(df['narrative_length'] < 10).sum()}\")\n",
    "print(f\"Very long narratives (>500 words): {(df['narrative_length'] > 500).sum()}\")"
   ]
  },
  {
   "cell_type": "markdown",
   "id": "03db3e92",
   "metadata": {},
   "source": [
    "### 5. Count complaints with and without narratives"
   ]
  },
  {
   "cell_type": "code",
   "execution_count": 15,
   "id": "2dd8ea24",
   "metadata": {},
   "outputs": [
    {
     "name": "stdout",
     "output_type": "stream",
     "text": [
      "\n",
      "Complaints with Narratives: 146189\n",
      "Complaints without Narratives: 853811\n"
     ]
    }
   ],
   "source": [
    "print(\"\\nComplaints with Narratives:\", df['Consumer complaint narrative'].notnull().sum())\n",
    "print(\"Complaints without Narratives:\", df['Consumer complaint narrative'].isnull().sum())\n"
   ]
  },
  {
   "cell_type": "markdown",
   "id": "62ca6149",
   "metadata": {},
   "source": [
    "### 6. Filter dataset for specified products"
   ]
  },
  {
   "cell_type": "code",
   "execution_count": 16,
   "metadata": {},
   "outputs": [],
   "source": [
    "target_products = ['Credit card', 'Personal loan', 'Buy Now, Pay Later (BNPL)', 'Savings account', 'Money transfers']\n",
    "df_filtered = df[df['Product'].isin(target_products)]"
   ]
  },
  {
   "cell_type": "code",
   "execution_count": 17,
   "id": "50acf796",
   "metadata": {},
   "outputs": [
    {
     "data": {
      "text/html": [
       "<div>\n",
       "<style scoped>\n",
       "    .dataframe tbody tr th:only-of-type {\n",
       "        vertical-align: middle;\n",
       "    }\n",
       "\n",
       "    .dataframe tbody tr th {\n",
       "        vertical-align: top;\n",
       "    }\n",
       "\n",
       "    .dataframe thead th {\n",
       "        text-align: right;\n",
       "    }\n",
       "</style>\n",
       "<table border=\"1\" class=\"dataframe\">\n",
       "  <thead>\n",
       "    <tr style=\"text-align: right;\">\n",
       "      <th></th>\n",
       "      <th>Consumer complaint narrative</th>\n",
       "      <th>Product</th>\n",
       "      <th>Issue</th>\n",
       "      <th>Company</th>\n",
       "      <th>Date received</th>\n",
       "      <th>narrative_length</th>\n",
       "    </tr>\n",
       "  </thead>\n",
       "  <tbody>\n",
       "    <tr>\n",
       "      <th>23</th>\n",
       "      <td>NaN</td>\n",
       "      <td>Credit card</td>\n",
       "      <td>Getting a credit card</td>\n",
       "      <td>CAPITAL ONE FINANCIAL CORPORATION</td>\n",
       "      <td>2025-06-08</td>\n",
       "      <td>0</td>\n",
       "    </tr>\n",
       "    <tr>\n",
       "      <th>38</th>\n",
       "      <td>Two transactions were done through Citi bank a...</td>\n",
       "      <td>Credit card</td>\n",
       "      <td>Problem with a purchase shown on your statement</td>\n",
       "      <td>CITIBANK, N.A.</td>\n",
       "      <td>2025-06-02</td>\n",
       "      <td>180</td>\n",
       "    </tr>\n",
       "    <tr>\n",
       "      <th>84</th>\n",
       "      <td>NaN</td>\n",
       "      <td>Credit card</td>\n",
       "      <td>Fees or interest</td>\n",
       "      <td>SYNCHRONY FINANCIAL</td>\n",
       "      <td>2025-03-20</td>\n",
       "      <td>0</td>\n",
       "    </tr>\n",
       "    <tr>\n",
       "      <th>98</th>\n",
       "      <td>NaN</td>\n",
       "      <td>Credit card</td>\n",
       "      <td>Problem with a purchase shown on your statement</td>\n",
       "      <td>CAPITAL ONE FINANCIAL CORPORATION</td>\n",
       "      <td>2025-06-07</td>\n",
       "      <td>0</td>\n",
       "    </tr>\n",
       "    <tr>\n",
       "      <th>212</th>\n",
       "      <td>NaN</td>\n",
       "      <td>Credit card</td>\n",
       "      <td>Problem with a purchase shown on your statement</td>\n",
       "      <td>CAPITAL ONE FINANCIAL CORPORATION</td>\n",
       "      <td>2025-04-22</td>\n",
       "      <td>0</td>\n",
       "    </tr>\n",
       "  </tbody>\n",
       "</table>\n",
       "</div>"
      ],
      "text/plain": [
       "                          Consumer complaint narrative      Product  \\\n",
       "23                                                 NaN  Credit card   \n",
       "38   Two transactions were done through Citi bank a...  Credit card   \n",
       "84                                                 NaN  Credit card   \n",
       "98                                                 NaN  Credit card   \n",
       "212                                                NaN  Credit card   \n",
       "\n",
       "                                               Issue  \\\n",
       "23                             Getting a credit card   \n",
       "38   Problem with a purchase shown on your statement   \n",
       "84                                  Fees or interest   \n",
       "98   Problem with a purchase shown on your statement   \n",
       "212  Problem with a purchase shown on your statement   \n",
       "\n",
       "                               Company Date received  narrative_length  \n",
       "23   CAPITAL ONE FINANCIAL CORPORATION    2025-06-08                 0  \n",
       "38                      CITIBANK, N.A.    2025-06-02               180  \n",
       "84                 SYNCHRONY FINANCIAL    2025-03-20                 0  \n",
       "98   CAPITAL ONE FINANCIAL CORPORATION    2025-06-07                 0  \n",
       "212  CAPITAL ONE FINANCIAL CORPORATION    2025-04-22                 0  "
      ]
     },
     "execution_count": 17,
     "metadata": {},
     "output_type": "execute_result"
    }
   ],
   "source": [
    "df_filtered.head()"
   ]
  },
  {
   "cell_type": "markdown",
   "id": "68c85de7",
   "metadata": {},
   "source": [
    "### 7. Remove records with empty narratives"
   ]
  },
  {
   "cell_type": "code",
   "execution_count": 18,
   "id": "1f0f7dc0",
   "metadata": {},
   "outputs": [
    {
     "name": "stdout",
     "output_type": "stream",
     "text": [
      "\n",
      "Shape after filtering products and removing empty narratives: (4541, 6)\n"
     ]
    }
   ],
   "source": [
    "\n",
    "df_filtered = df_filtered[df_filtered['Consumer complaint narrative'].notnull()]\n",
    "print(\"\\nShape after filtering products and removing empty narratives:\", df_filtered.shape)"
   ]
  },
  {
   "cell_type": "markdown",
   "id": "6c6fe2fa",
   "metadata": {},
   "source": [
    "### 8 Clean Text narrative"
   ]
  },
  {
   "cell_type": "code",
   "execution_count": 19,
   "id": "0cb1fda5",
   "metadata": {},
   "outputs": [],
   "source": [
    "from data_process import clean_narrative"
   ]
  },
  {
   "cell_type": "code",
   "execution_count": 20,
   "id": "0c9cab4f",
   "metadata": {},
   "outputs": [],
   "source": [
    "df_filtered['cleaned_narrative'] = df_filtered['Consumer complaint narrative'].apply(clean_narrative)"
   ]
  },
  {
   "cell_type": "code",
   "execution_count": 23,
   "id": "e7e042ce",
   "metadata": {},
   "outputs": [
    {
     "data": {
      "text/html": [
       "<div>\n",
       "<style scoped>\n",
       "    .dataframe tbody tr th:only-of-type {\n",
       "        vertical-align: middle;\n",
       "    }\n",
       "\n",
       "    .dataframe tbody tr th {\n",
       "        vertical-align: top;\n",
       "    }\n",
       "\n",
       "    .dataframe thead th {\n",
       "        text-align: right;\n",
       "    }\n",
       "</style>\n",
       "<table border=\"1\" class=\"dataframe\">\n",
       "  <thead>\n",
       "    <tr style=\"text-align: right;\">\n",
       "      <th></th>\n",
       "      <th>Consumer complaint narrative</th>\n",
       "      <th>Product</th>\n",
       "      <th>Issue</th>\n",
       "      <th>Company</th>\n",
       "      <th>Date received</th>\n",
       "      <th>narrative_length</th>\n",
       "      <th>cleaned_narrative</th>\n",
       "    </tr>\n",
       "  </thead>\n",
       "  <tbody>\n",
       "    <tr>\n",
       "      <th>38</th>\n",
       "      <td>Two transactions were done through Citi bank a...</td>\n",
       "      <td>Credit card</td>\n",
       "      <td>Problem with a purchase shown on your statement</td>\n",
       "      <td>CITIBANK, N.A.</td>\n",
       "      <td>2025-06-02</td>\n",
       "      <td>180</td>\n",
       "      <td>two transactions were done through citi bank a...</td>\n",
       "    </tr>\n",
       "    <tr>\n",
       "      <th>1830</th>\n",
       "      <td>We called Citi Bank Customer Service on XX/XX/...</td>\n",
       "      <td>Credit card</td>\n",
       "      <td>Fees or interest</td>\n",
       "      <td>CITIBANK, N.A.</td>\n",
       "      <td>2025-06-14</td>\n",
       "      <td>102</td>\n",
       "      <td>we called citi bank customer service on xxxxye...</td>\n",
       "    </tr>\n",
       "    <tr>\n",
       "      <th>2237</th>\n",
       "      <td>Case ID : XXXX Case : XXXX Case : XXXX Re : Fr...</td>\n",
       "      <td>Credit card</td>\n",
       "      <td>Problem with a purchase shown on your statement</td>\n",
       "      <td>CITIBANK, N.A.</td>\n",
       "      <td>2025-06-03</td>\n",
       "      <td>476</td>\n",
       "      <td>case id xxxx case xxxx case xxxx re fraudulent...</td>\n",
       "    </tr>\n",
       "    <tr>\n",
       "      <th>2321</th>\n",
       "      <td>I have a Citi rewards cards. The credit balanc...</td>\n",
       "      <td>Credit card</td>\n",
       "      <td>Incorrect information on your report</td>\n",
       "      <td>CITIBANK, N.A.</td>\n",
       "      <td>2025-06-12</td>\n",
       "      <td>233</td>\n",
       "      <td>i have a citi rewards cards. the credit balanc...</td>\n",
       "    </tr>\n",
       "    <tr>\n",
       "      <th>2571</th>\n",
       "      <td>AS I STATED I KEEP SENDING LETTERS AND ASKING ...</td>\n",
       "      <td>Credit card</td>\n",
       "      <td>Problem when making payments</td>\n",
       "      <td>ALLY FINANCIAL INC.</td>\n",
       "      <td>2025-05-14</td>\n",
       "      <td>47</td>\n",
       "      <td>as i stated i keep sending letters and asking ...</td>\n",
       "    </tr>\n",
       "  </tbody>\n",
       "</table>\n",
       "</div>"
      ],
      "text/plain": [
       "                           Consumer complaint narrative      Product  \\\n",
       "38    Two transactions were done through Citi bank a...  Credit card   \n",
       "1830  We called Citi Bank Customer Service on XX/XX/...  Credit card   \n",
       "2237  Case ID : XXXX Case : XXXX Case : XXXX Re : Fr...  Credit card   \n",
       "2321  I have a Citi rewards cards. The credit balanc...  Credit card   \n",
       "2571  AS I STATED I KEEP SENDING LETTERS AND ASKING ...  Credit card   \n",
       "\n",
       "                                                Issue              Company  \\\n",
       "38    Problem with a purchase shown on your statement       CITIBANK, N.A.   \n",
       "1830                                 Fees or interest       CITIBANK, N.A.   \n",
       "2237  Problem with a purchase shown on your statement       CITIBANK, N.A.   \n",
       "2321             Incorrect information on your report       CITIBANK, N.A.   \n",
       "2571                     Problem when making payments  ALLY FINANCIAL INC.   \n",
       "\n",
       "     Date received  narrative_length  \\\n",
       "38      2025-06-02               180   \n",
       "1830    2025-06-14               102   \n",
       "2237    2025-06-03               476   \n",
       "2321    2025-06-12               233   \n",
       "2571    2025-05-14                47   \n",
       "\n",
       "                                      cleaned_narrative  \n",
       "38    two transactions were done through citi bank a...  \n",
       "1830  we called citi bank customer service on xxxxye...  \n",
       "2237  case id xxxx case xxxx case xxxx re fraudulent...  \n",
       "2321  i have a citi rewards cards. the credit balanc...  \n",
       "2571  as i stated i keep sending letters and asking ...  "
      ]
     },
     "execution_count": 23,
     "metadata": {},
     "output_type": "execute_result"
    }
   ],
   "source": [
    "df_filtered.head()"
   ]
  },
  {
   "cell_type": "code",
   "execution_count": 24,
   "metadata": {},
   "outputs": [
    {
     "name": "stdout",
     "output_type": "stream",
     "text": [
      "(4541, 7)\n"
     ]
    }
   ],
   "source": [
    "print(df_filtered.shape)"
   ]
  },
  {
   "cell_type": "markdown",
   "id": "fcf6ecc0",
   "metadata": {},
   "source": [
    "### 9. Save the cleaned and filtered dataset"
   ]
  },
  {
   "cell_type": "code",
   "execution_count": 25,
   "id": "6fbe9c3b",
   "metadata": {},
   "outputs": [
    {
     "name": "stdout",
     "output_type": "stream",
     "text": [
      "\n",
      "Cleaned dataset saved to: ../data/filtered_complaints.csv\n"
     ]
    }
   ],
   "source": [
    "\n",
    "df_filtered.to_csv('../data/filtered_complaints.csv', index=False)\n",
    "print(f\"\\nCleaned dataset saved to: {'../data/filtered_complaints.csv'}\")\n"
   ]
  },
  {
   "cell_type": "markdown",
   "id": "11bb3611",
   "metadata": {},
   "source": [
    "### 10. Summary statistics of filtered dataset"
   ]
  },
  {
   "cell_type": "code",
   "execution_count": 26,
   "id": "f900a983",
   "metadata": {},
   "outputs": [
    {
     "name": "stdout",
     "output_type": "stream",
     "text": [
      "\n",
      "Filtered Dataset Summary:\n",
      "Shape: (4541, 7)\n",
      "\n",
      "Product Distribution in Filtered Dataset:\n",
      "Product\n",
      "Credit card        4539\n",
      "Money transfers       2\n",
      "Name: count, dtype: int64\n",
      "\n",
      "Sample Cleaned Narratives (First 3):\n",
      "\n",
      "Sample 1:\n",
      "two transactions were done through citi bank and we have proven that two transactions were done as fraud. we were buying into xxxx xxxx for them to take over our existing timeshare. first amount of 12...\n",
      "\n",
      "Sample 2:\n",
      "we called citi bank customer service on xxxxyear to question a late fee 30.00 and an interest charge on our account 3.00 , as we always pay on time. the bill was due xxxxyear on a saturday, and we wer...\n",
      "\n",
      "Sample 3:\n",
      "case id xxxx case xxxx case xxxx re fraudulent xxxx charges xxxxyear 96.00 xxxxyear 160.00 xxxxyear xxxx i did not make any of the above charges and i did not authorize anyone to make these charges. t...\n"
     ]
    }
   ],
   "source": [
    "\n",
    "print(\"\\nFiltered Dataset Summary:\")\n",
    "print(\"Shape:\", df_filtered.shape)\n",
    "print(\"\\nProduct Distribution in Filtered Dataset:\")\n",
    "print(df_filtered['Product'].value_counts())\n",
    "print(\"\\nSample Cleaned Narratives (First 3):\")\n",
    "for i, narrative in enumerate(df_filtered['cleaned_narrative'].head(3)):\n",
    "    print(f\"\\nSample {i+1}:\")\n",
    "    print(narrative[:200] + \"...\" if len(narrative) > 200 else narrative)"
   ]
  },
  {
   "cell_type": "markdown",
   "id": "b150d12c",
   "metadata": {},
   "source": [
    "### Summary of EDA and Preprocessing Findings\n",
    "\n",
    "The exploratory data analysis of the CFPB complaint dataset reveals key insights into its structure and content. The dataset contains a diverse set of complaints across multiple financial products, with the initial analysis showing the distribution of complaints across products, highlighting which financial products (e.g., Credit card, Personal loan) receive the most complaints. The narrative length analysis indicates a wide range of complaint lengths, with some narratives being very short (<10 words) and others excessively long (>500 words), suggesting variability in consumer detail. Complaints without narratives were identified, and these were excluded from the final dataset to ensure quality for the RAG pipeline.\n",
    "\n",
    "After filtering for the specified products (Credit card, Personal loan, Buy Now, Pay Later, Savings account, Money transfers) and removing records with empty narratives, the dataset was significantly reduced in size, ensuring relevance and usability. Text cleaning involved lowercasing, removing special characters, and eliminating common boilerplate phrases to improve embedding quality. The cleaned dataset, saved as filtered_complaints.csv, retains essential metadata and cleaned narratives, making it suitable for downstream tasks like embedding and retrieval. The preprocessing steps ensure that the narratives are standardized and free of noise, enhancing the performance of the chatbot in answering queries based on real-world feedback."
   ]
  }
 ],
 "metadata": {
  "kernelspec": {
   "display_name": ".ienv",
   "language": "python",
   "name": "python3"
  },
  "language_info": {
   "codemirror_mode": {
    "name": "ipython",
    "version": 3
   },
   "file_extension": ".py",
   "mimetype": "text/x-python",
   "name": "python",
   "nbconvert_exporter": "python",
   "pygments_lexer": "ipython3",
   "version": "3.12.6"
  }
 },
 "nbformat": 4,
 "nbformat_minor": 5
}
