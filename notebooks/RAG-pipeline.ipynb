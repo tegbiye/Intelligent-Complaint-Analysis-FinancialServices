{
 "cells": [
  {
   "cell_type": "code",
   "execution_count": 28,
   "id": "da462579",
   "metadata": {},
   "outputs": [],
   "source": [
    "%load_ext autoreload\n",
    "%autoreload 2"
   ]
  },
  {
   "cell_type": "code",
   "execution_count": 29,
   "id": "66a8c29a",
   "metadata": {},
   "outputs": [],
   "source": [
    "%reload_ext autoreload"
   ]
  },
  {
   "cell_type": "code",
   "execution_count": 30,
   "id": "0f90b186",
   "metadata": {},
   "outputs": [],
   "source": [
    "import pandas as pd\n",
    "import numpy as np\n",
    "from sentence_transformers import SentenceTransformer\n",
    "from faiss import IndexFlatL2\n",
    "import pickle\n",
    "from pathlib import Path\n",
    "from langchain.llms import HuggingFacePipeline\n",
    "from langchain.prompts import PromptTemplate\n",
    "from transformers import pipeline\n",
    "import torch\n",
    "import os\n",
    "import sys\n",
    "from huggingface_hub import login"
   ]
  },
  {
   "cell_type": "code",
   "execution_count": 31,
   "id": "d669c9ab",
   "metadata": {},
   "outputs": [],
   "source": [
    "sys.path.append(os.path.abspath('../src/'))"
   ]
  },
  {
   "cell_type": "code",
   "execution_count": 32,
   "id": "72a9cef8",
   "metadata": {},
   "outputs": [],
   "source": [
    "from loggers import get_logger\n",
    "from rag_helper import rag_pipeline"
   ]
  },
  {
   "cell_type": "code",
   "execution_count": 33,
   "id": "c5fdc922",
   "metadata": {},
   "outputs": [],
   "source": [
    "logger = get_logger(__name__)"
   ]
  },
  {
   "cell_type": "code",
   "execution_count": 34,
   "id": "332dff5a",
   "metadata": {},
   "outputs": [],
   "source": [
    "# Set up directories\n",
    "VECTOR_STORE_DIR = Path('../vector_store')\n",
    "DATA_DIR = Path('../data')"
   ]
  },
  {
   "cell_type": "markdown",
   "id": "d8023b6b",
   "metadata": {},
   "source": [
    "#### Load vector stor and metadata"
   ]
  },
  {
   "cell_type": "code",
   "execution_count": 35,
   "id": "f7aa004f",
   "metadata": {},
   "outputs": [
    {
     "name": "stdout",
     "output_type": "stream",
     "text": [
      "2025-07-15 17:08:49,055 - INFO - Vector store and metadata loaded successfully.\n"
     ]
    }
   ],
   "source": [
    "# Load vector store and metadata\n",
    "try:\n",
    "    with open(VECTOR_STORE_DIR / 'faiss_index.bin', 'rb') as f:\n",
    "        index = pickle.load(f)\n",
    "    with open(VECTOR_STORE_DIR / 'metadata.pkl', 'rb') as f:\n",
    "        store_data = pickle.load(f)\n",
    "        chunks = store_data['chunks']\n",
    "        metadata = store_data['metadata']\n",
    "    logger.info(\"Vector store and metadata loaded successfully.\")\n",
    "except FileNotFoundError as e:\n",
    "    logger.error(f\"Vector store files not found: {e}\")\n",
    "    raise\n",
    "except Exception as e:\n",
    "    logger.error(f\"Error loading vector store or metadata: {e}\")\n",
    "    raise"
   ]
  },
  {
   "cell_type": "markdown",
   "id": "d00d0161",
   "metadata": {},
   "source": [
    "#### Initialize Embedding Model"
   ]
  },
  {
   "cell_type": "code",
   "execution_count": 36,
   "id": "dbd7194f",
   "metadata": {},
   "outputs": [
    {
     "name": "stdout",
     "output_type": "stream",
     "text": [
      "2025-07-15 17:08:52,344 - INFO - Loading embedding model 'sentence-transformers/all-MiniLM-L6-v2'...\n",
      "2025-07-15 17:08:56,484 - INFO - Embedding model loaded successfully. Test embedding shape: (1, 384)\n"
     ]
    }
   ],
   "source": [
    "# Initialize embedding model with explicit checks\n",
    "try:\n",
    "    logger.info(\"Loading embedding model 'sentence-transformers/all-MiniLM-L6-v2'...\")\n",
    "    embedding_model = SentenceTransformer('sentence-transformers/all-MiniLM-L6-v2')\n",
    "    if embedding_model is None:\n",
    "        raise ValueError(\"Embedding model is None after initialization.\")\n",
    "    # Test the model\n",
    "    test_embedding = embedding_model.encode([\"test sentence\"])\n",
    "    logger.info(f\"Embedding model loaded successfully. Test embedding shape: {test_embedding.shape}\")\n",
    "except Exception as e:\n",
    "    logger.error(f\"Failed to load or test embedding model 'sentence-transformers/all-MiniLM-L6-v2': {e}\")\n",
    "    logger.error(\"Ensure 'sentence-transformers' is installed and the model is accessible.\")\n",
    "    raise"
   ]
  },
  {
   "cell_type": "markdown",
   "id": "db9339bf",
   "metadata": {},
   "source": [
    "#### Initiliaze th LLM"
   ]
  },
  {
   "cell_type": "code",
   "execution_count": 37,
   "id": "72fad805",
   "metadata": {},
   "outputs": [
    {
     "name": "stderr",
     "output_type": "stream",
     "text": [
      "Device set to use cpu\n"
     ]
    },
    {
     "name": "stdout",
     "output_type": "stream",
     "text": [
      "2025-07-15 17:09:02,904 - INFO - LLM (flan-t5-small) loaded and tested successfully. Test output: credit card fraud...\n"
     ]
    }
   ],
   "source": [
    "# Initialize LLM (try bart-base, fallback to flan-t5-base)\n",
    "try:\n",
    "        llm_pipeline = pipeline(\n",
    "            \"text2text-generation\",\n",
    "            model=\"google/flan-t5-base\",\n",
    "            device=0 if torch.cuda.is_available() else -1,\n",
    "            max_length=200,\n",
    "            do_sample=True,\n",
    "            temperature=0.7\n",
    "        )\n",
    "        test_output = llm_pipeline(\"What are common issues with credit card billing disputes?\")[0]['generated_text']\n",
    "        logger.info(f\"LLM (flan-t5-small) loaded and tested successfully. Test output: {test_output[:50]}...\")\n",
    "except Exception as e:\n",
    "        logger.error(f\"Failed to load flan-t5-small: {e}\")\n",
    "        logger.error(\"Ensure internet connection and try clearing cache: rm -rf ~/.cache/huggingface/hub\")\n",
    "        raise\n",
    "\n",
    "llm = HuggingFacePipeline(pipeline=llm_pipeline)\n"
   ]
  },
  {
   "cell_type": "code",
   "execution_count": 38,
   "id": "edbbf059",
   "metadata": {},
   "outputs": [],
   "source": [
    "# Define prompt template\n",
    "prompt_template = PromptTemplate(\n",
    "    input_variables=[\"context\", \"question\"],\n",
    "    template=\"\"\"\n",
    "You are a financial analyst assistant for CrediTrust. Your task is to answer questions about customer complaints based solely on the provided context. If the context doesn't contain enough information to answer the question, state clearly that you don't have sufficient information. Provide a concise and accurate response.\n",
    "\n",
    "Context: {context}\n",
    "\n",
    "Question: {question}\n",
    "\n",
    "Answer:\n",
    "\"\"\"\n",
    ")\n",
    "\n"
   ]
  },
  {
   "cell_type": "code",
   "execution_count": 39,
   "id": "2dbd4439",
   "metadata": {},
   "outputs": [],
   "source": [
    "# Qualitative evaluation\n",
    "evaluation_questions = [\n",
    "    \"What are common issues with credit card billing disputes?\",\n",
    "    \"Why do customers complain about Buy Now, Pay Later services?\",\n",
    "    \"Are there any complaints about unauthorized transactions in money transfers?\",\n",
    "    \"What problems do people face with savings account fees?\",\n",
    "    \"How do personal loan complaints differ from credit card complaints?\"\n",
    "]\n"
   ]
  },
  {
   "cell_type": "code",
   "execution_count": 40,
   "id": "950956fb",
   "metadata": {},
   "outputs": [
    {
     "name": "stdout",
     "output_type": "stream",
     "text": [
      "2025-07-15 17:09:24,449 - ERROR - Error in retrieving chunks for query 'What are common issues with credit card billing disputes?': 'NoneType' object has no attribute 'encode'\n",
      "2025-07-15 17:09:24,449 - ERROR - Error in RAG pipeline for query 'What are common issues with credit card billing disputes?': 'NoneType' object has no attribute 'encode'\n",
      "2025-07-15 17:09:24,449 - ERROR - Error evaluating question 'What are common issues with credit card billing disputes?': 'NoneType' object has no attribute 'encode'\n",
      "2025-07-15 17:09:24,449 - ERROR - Error in retrieving chunks for query 'Why do customers complain about Buy Now, Pay Later services?': 'NoneType' object has no attribute 'encode'\n",
      "2025-07-15 17:09:24,449 - ERROR - Error in RAG pipeline for query 'Why do customers complain about Buy Now, Pay Later services?': 'NoneType' object has no attribute 'encode'\n",
      "2025-07-15 17:09:24,454 - ERROR - Error evaluating question 'Why do customers complain about Buy Now, Pay Later services?': 'NoneType' object has no attribute 'encode'\n",
      "2025-07-15 17:09:24,454 - ERROR - Error in retrieving chunks for query 'Are there any complaints about unauthorized transactions in money transfers?': 'NoneType' object has no attribute 'encode'\n",
      "2025-07-15 17:09:24,454 - ERROR - Error in RAG pipeline for query 'Are there any complaints about unauthorized transactions in money transfers?': 'NoneType' object has no attribute 'encode'\n",
      "2025-07-15 17:09:24,454 - ERROR - Error evaluating question 'Are there any complaints about unauthorized transactions in money transfers?': 'NoneType' object has no attribute 'encode'\n",
      "2025-07-15 17:09:24,459 - ERROR - Error in retrieving chunks for query 'What problems do people face with savings account fees?': 'NoneType' object has no attribute 'encode'\n",
      "2025-07-15 17:09:24,459 - ERROR - Error in RAG pipeline for query 'What problems do people face with savings account fees?': 'NoneType' object has no attribute 'encode'\n",
      "2025-07-15 17:09:24,459 - ERROR - Error evaluating question 'What problems do people face with savings account fees?': 'NoneType' object has no attribute 'encode'\n",
      "2025-07-15 17:09:24,459 - ERROR - Error in retrieving chunks for query 'How do personal loan complaints differ from credit card complaints?': 'NoneType' object has no attribute 'encode'\n",
      "2025-07-15 17:09:24,464 - ERROR - Error in RAG pipeline for query 'How do personal loan complaints differ from credit card complaints?': 'NoneType' object has no attribute 'encode'\n",
      "2025-07-15 17:09:24,466 - ERROR - Error evaluating question 'How do personal loan complaints differ from credit card complaints?': 'NoneType' object has no attribute 'encode'\n"
     ]
    }
   ],
   "source": [
    "evaluation_results = []\n",
    "for question in evaluation_questions:\n",
    "    try:\n",
    "        result = rag_pipeline(question, llm, embedding_model, index, chunks, metadata, prompt_template)\n",
    "        quality_score = 3\n",
    "        comment = \"Review answer and sources for accuracy and relevance.\"\n",
    "        evaluation_results.append({\n",
    "            'question': question,\n",
    "            'answer': result['answer'][:200] + \"...\" if len(result['answer']) > 200 else result['answer'],\n",
    "            'sources': [f\"Chunk ID: {chunk['metadata']['chunk_id']}, Product: {chunk['metadata']['product']}, Text: {chunk['text'][:100]}...\" for chunk in result['retrieved_chunks'][:2]],\n",
    "            'quality_score': quality_score,\n",
    "            'comment': comment\n",
    "        })\n",
    "    except Exception as e:\n",
    "        logger.error(f\"Error evaluating question '{question}': {e}\")\n",
    "        evaluation_results.append({\n",
    "            'question': question,\n",
    "            'answer': \"Error generating answer.\",\n",
    "            'sources': [],\n",
    "            'quality_score': 1,\n",
    "            'comment': f\"Failed due to: {str(e)}\"\n",
    "        })\n"
   ]
  },
  {
   "cell_type": "code",
   "execution_count": 17,
   "id": "a0e14685",
   "metadata": {},
   "outputs": [
    {
     "name": "stdout",
     "output_type": "stream",
     "text": [
      "2025-07-15 16:47:04,049 - INFO - Evaluation table saved to: ..\\data\\evaluation_table.md\n"
     ]
    }
   ],
   "source": [
    "# Save evaluation results\n",
    "try:\n",
    "    evaluation_df = pd.DataFrame(evaluation_results)\n",
    "    evaluation_df.to_markdown(DATA_DIR / 'evaluation_table.md', index=False)\n",
    "    logger.info(f\"Evaluation table saved to: {DATA_DIR / 'evaluation_table.md'}\")\n",
    "except Exception as e:\n",
    "    logger.error(f\"Error saving evaluation table: {e}\")\n",
    "    raise\n"
   ]
  },
  {
   "cell_type": "code",
   "execution_count": 18,
   "id": "4d43b8d5",
   "metadata": {},
   "outputs": [
    {
     "name": "stdout",
     "output_type": "stream",
     "text": [
      "\n",
      "Sample Evaluation Results:\n",
      "| question                                                                     | answer                   | sources   |   quality_score | comment                                                    |\n",
      "|:-----------------------------------------------------------------------------|:-------------------------|:----------|----------------:|:-----------------------------------------------------------|\n",
      "| What are common issues with credit card billing disputes?                    | Error generating answer. | []        |               1 | Failed due to: 'NoneType' object has no attribute 'encode' |\n",
      "| Why do customers complain about Buy Now, Pay Later services?                 | Error generating answer. | []        |               1 | Failed due to: 'NoneType' object has no attribute 'encode' |\n",
      "| Are there any complaints about unauthorized transactions in money transfers? | Error generating answer. | []        |               1 | Failed due to: 'NoneType' object has no attribute 'encode' |\n",
      "| What problems do people face with savings account fees?                      | Error generating answer. | []        |               1 | Failed due to: 'NoneType' object has no attribute 'encode' |\n",
      "| How do personal loan complaints differ from credit card complaints?          | Error generating answer. | []        |               1 | Failed due to: 'NoneType' object has no attribute 'encode' |\n"
     ]
    }
   ],
   "source": [
    "# Print sample evaluation\n",
    "print(\"\\nSample Evaluation Results:\")\n",
    "print(evaluation_df.to_markdown(index=False))\n"
   ]
  }
 ],
 "metadata": {
  "kernelspec": {
   "display_name": ".ienv",
   "language": "python",
   "name": "python3"
  },
  "language_info": {
   "codemirror_mode": {
    "name": "ipython",
    "version": 3
   },
   "file_extension": ".py",
   "mimetype": "text/x-python",
   "name": "python",
   "nbconvert_exporter": "python",
   "pygments_lexer": "ipython3",
   "version": "3.12.10"
  }
 },
 "nbformat": 4,
 "nbformat_minor": 5
}
