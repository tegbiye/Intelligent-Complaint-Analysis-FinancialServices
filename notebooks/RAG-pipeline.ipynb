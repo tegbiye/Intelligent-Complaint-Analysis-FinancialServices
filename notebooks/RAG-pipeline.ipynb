{
 "cells": [
  {
   "cell_type": "code",
   "execution_count": 2,
   "id": "da462579",
   "metadata": {},
   "outputs": [],
   "source": [
    "%load_ext autoreload\n",
    "%autoreload 2"
   ]
  },
  {
   "cell_type": "code",
   "execution_count": 3,
   "id": "66a8c29a",
   "metadata": {},
   "outputs": [],
   "source": [
    "%reload_ext autoreload"
   ]
  },
  {
   "cell_type": "code",
   "execution_count": 1,
   "id": "0f90b186",
   "metadata": {},
   "outputs": [
    {
     "name": "stderr",
     "output_type": "stream",
     "text": [
      "c:\\Users\\ASTU-PG\\Intelligent-Complaint-Analysis-FinancialServices\\.ienv\\Lib\\site-packages\\tqdm\\auto.py:21: TqdmWarning: IProgress not found. Please update jupyter and ipywidgets. See https://ipywidgets.readthedocs.io/en/stable/user_install.html\n",
      "  from .autonotebook import tqdm as notebook_tqdm\n"
     ]
    }
   ],
   "source": [
    "import pandas as pd\n",
    "import numpy as np\n",
    "from sentence_transformers import SentenceTransformer\n",
    "from faiss import IndexFlatL2\n",
    "import faiss\n",
    "import pickle\n",
    "from pathlib import Path\n",
    "from langchain.llms import HuggingFacePipeline\n",
    "from langchain.prompts import PromptTemplate\n",
    "from transformers import pipeline\n",
    "import torch\n",
    "import os\n",
    "import sys\n",
    "from huggingface_hub import login"
   ]
  },
  {
   "cell_type": "code",
   "execution_count": 4,
   "id": "d669c9ab",
   "metadata": {},
   "outputs": [],
   "source": [
    "sys.path.append(os.path.abspath('../src/'))"
   ]
  },
  {
   "cell_type": "code",
   "execution_count": 5,
   "id": "72a9cef8",
   "metadata": {},
   "outputs": [],
   "source": [
    "from loggers import get_logger\n",
    "from rag_helper import rag_pipeline"
   ]
  },
  {
   "cell_type": "code",
   "execution_count": 6,
   "id": "c5fdc922",
   "metadata": {},
   "outputs": [],
   "source": [
    "logger = get_logger(__name__)"
   ]
  },
  {
   "cell_type": "code",
   "execution_count": 7,
   "id": "332dff5a",
   "metadata": {},
   "outputs": [],
   "source": [
    "# Set up directories\n",
    "VECTOR_STORE_DIR = Path('../vector_store')\n",
    "DATA_DIR = Path('../data')"
   ]
  },
  {
   "cell_type": "markdown",
   "id": "d8023b6b",
   "metadata": {},
   "source": [
    "#### Load vector stor and metadata"
   ]
  },
  {
   "cell_type": "code",
   "execution_count": 8,
   "id": "f7aa004f",
   "metadata": {},
   "outputs": [
    {
     "name": "stdout",
     "output_type": "stream",
     "text": [
      "2025-07-15 17:52:26,079 - INFO - Vector store and metadata loaded successfully.\n"
     ]
    }
   ],
   "source": [
    "# Load vector store and metadata\n",
    "try:\n",
    "    index = faiss.read_index(str(VECTOR_STORE_DIR / 'faiss_index.faiss'))\n",
    "    with open(VECTOR_STORE_DIR / 'metadata.pkl', 'rb') as f:\n",
    "        store_data = pickle.load(f)\n",
    "        chunks = store_data['chunks']\n",
    "        metadata = store_data['metadata']\n",
    "    logger.info(\"Vector store and metadata loaded successfully.\")\n",
    "except FileNotFoundError as e:\n",
    "    logger.error(f\"Vector store files not found: {e}\")\n",
    "    raise\n",
    "except Exception as e:\n",
    "    logger.error(f\"Error loading vector store or metadata: {e}\")\n",
    "    raise"
   ]
  },
  {
   "cell_type": "markdown",
   "id": "d00d0161",
   "metadata": {},
   "source": [
    "#### Initialize Embedding Model"
   ]
  },
  {
   "cell_type": "code",
   "execution_count": 9,
   "id": "dbd7194f",
   "metadata": {},
   "outputs": [
    {
     "name": "stdout",
     "output_type": "stream",
     "text": [
      "2025-07-15 17:52:37,162 - INFO - Loading embedding model 'sentence-transformers/all-MiniLM-L6-v2'...\n",
      "2025-07-15 17:52:52,060 - INFO - Embedding model loaded successfully. Test embedding shape: (1, 384)\n"
     ]
    }
   ],
   "source": [
    "# Initialize embedding model with explicit checks\n",
    "try:\n",
    "    logger.info(\"Loading embedding model 'sentence-transformers/all-MiniLM-L6-v2'...\")\n",
    "    embedding_model = SentenceTransformer('sentence-transformers/all-MiniLM-L6-v2')\n",
    "    if embedding_model is None:\n",
    "        raise ValueError(\"Embedding model is None after initialization.\")\n",
    "    # Test the model\n",
    "    test_embedding = embedding_model.encode([\"test sentence\"])\n",
    "    logger.info(f\"Embedding model loaded successfully. Test embedding shape: {test_embedding.shape}\")\n",
    "except Exception as e:\n",
    "    logger.error(f\"Failed to load or test embedding model 'sentence-transformers/all-MiniLM-L6-v2': {e}\")\n",
    "    logger.error(\"Ensure 'sentence-transformers' is installed and the model is accessible.\")\n",
    "    raise"
   ]
  },
  {
   "cell_type": "markdown",
   "id": "db9339bf",
   "metadata": {},
   "source": [
    "#### Initiliaze th LLM"
   ]
  },
  {
   "cell_type": "code",
   "execution_count": 10,
   "id": "72fad805",
   "metadata": {},
   "outputs": [
    {
     "name": "stderr",
     "output_type": "stream",
     "text": [
      "Device set to use cpu\n"
     ]
    },
    {
     "name": "stdout",
     "output_type": "stream",
     "text": [
      "2025-07-15 17:53:53,992 - INFO - LLM (flan-t5-small) loaded and tested successfully. Test output: credit card fraud...\n"
     ]
    },
    {
     "name": "stderr",
     "output_type": "stream",
     "text": [
      "C:\\Users\\ASTU-PG\\AppData\\Local\\Temp\\ipykernel_6384\\842926244.py:18: LangChainDeprecationWarning: The class `HuggingFacePipeline` was deprecated in LangChain 0.0.37 and will be removed in 1.0. An updated version of the class exists in the :class:`~langchain-huggingface package and should be used instead. To use it run `pip install -U :class:`~langchain-huggingface` and import as `from :class:`~langchain_huggingface import HuggingFacePipeline``.\n",
      "  llm = HuggingFacePipeline(pipeline=llm_pipeline)\n"
     ]
    }
   ],
   "source": [
    "# Initialize LLM (try bart-base, fallback to flan-t5-base)\n",
    "try:\n",
    "        llm_pipeline = pipeline(\n",
    "            \"text2text-generation\",\n",
    "            model=\"google/flan-t5-base\",\n",
    "            device=0 if torch.cuda.is_available() else -1,\n",
    "            max_length=200,\n",
    "            do_sample=True,\n",
    "            temperature=0.7\n",
    "        )\n",
    "        test_output = llm_pipeline(\"What are common issues with credit card billing disputes?\")[0]['generated_text']\n",
    "        logger.info(f\"LLM (flan-t5-small) loaded and tested successfully. Test output: {test_output[:50]}...\")\n",
    "except Exception as e:\n",
    "        logger.error(f\"Failed to load flan-t5-small: {e}\")\n",
    "        logger.error(\"Ensure internet connection and try clearing cache: rm -rf ~/.cache/huggingface/hub\")\n",
    "        raise\n",
    "\n",
    "llm = HuggingFacePipeline(pipeline=llm_pipeline)\n"
   ]
  },
  {
   "cell_type": "code",
   "execution_count": 11,
   "id": "edbbf059",
   "metadata": {},
   "outputs": [],
   "source": [
    "# Define prompt template\n",
    "prompt_template = PromptTemplate(\n",
    "    input_variables=[\"context\", \"question\"],\n",
    "    template=\"\"\"\n",
    "You are a financial analyst assistant for CrediTrust. Your task is to answer questions about customer complaints based solely on the provided context. If the context doesn't contain enough information to answer the question, state clearly that you don't have sufficient information. Provide a concise and accurate response.\n",
    "\n",
    "Context: {context}\n",
    "\n",
    "Question: {question}\n",
    "\n",
    "Answer:\n",
    "\"\"\"\n",
    ")\n",
    "\n"
   ]
  },
  {
   "cell_type": "code",
   "execution_count": 12,
   "id": "2dbd4439",
   "metadata": {},
   "outputs": [],
   "source": [
    "# Qualitative evaluation\n",
    "evaluation_questions = [\n",
    "    \"What are common issues with credit card billing disputes?\",\n",
    "    \"Why do customers complain about Buy Now, Pay Later services?\",\n",
    "    \"Are there any complaints about unauthorized transactions in money transfers?\",\n",
    "    \"What problems do people face with savings account fees?\",\n",
    "    \"How do personal loan complaints differ from credit card complaints?\"\n",
    "]\n"
   ]
  },
  {
   "cell_type": "code",
   "execution_count": 13,
   "id": "950956fb",
   "metadata": {},
   "outputs": [
    {
     "name": "stdout",
     "output_type": "stream",
     "text": [
      "2025-07-15 17:54:09,995 - INFO - Retrieved 5 chunks for query: What are common issues with credit card billing disputes?\n"
     ]
    },
    {
     "name": "stderr",
     "output_type": "stream",
     "text": [
      "c:\\Users\\ASTU-PG\\Intelligent-Complaint-Analysis-FinancialServices\\src\\rag_helper.py:43: LangChainDeprecationWarning: The method `BaseLLM.__call__` was deprecated in langchain-core 0.1.7 and will be removed in 1.0. Use :meth:`~invoke` instead.\n",
      "  response = llm(prompt)\n",
      "Token indices sequence length is longer than the specified maximum sequence length for this model (522 > 512). Running this sequence through the model will result in indexing errors\n"
     ]
    },
    {
     "name": "stdout",
     "output_type": "stream",
     "text": [
      "2025-07-15 17:54:14,597 - INFO - Generated answer for query: What are common issues with credit card billing disputes?\n",
      "2025-07-15 17:54:14,802 - INFO - Retrieved 5 chunks for query: Why do customers complain about Buy Now, Pay Later services?\n",
      "2025-07-15 17:54:39,575 - INFO - Generated answer for query: Why do customers complain about Buy Now, Pay Later services?\n",
      "2025-07-15 17:54:39,665 - INFO - Retrieved 5 chunks for query: Are there any complaints about unauthorized transactions in money transfers?\n",
      "2025-07-15 17:54:40,920 - INFO - Generated answer for query: Are there any complaints about unauthorized transactions in money transfers?\n",
      "2025-07-15 17:54:41,030 - INFO - Retrieved 5 chunks for query: What problems do people face with savings account fees?\n",
      "2025-07-15 17:54:48,730 - INFO - Generated answer for query: What problems do people face with savings account fees?\n",
      "2025-07-15 17:54:48,814 - INFO - Retrieved 5 chunks for query: How do personal loan complaints differ from credit card complaints?\n",
      "2025-07-15 17:54:51,620 - INFO - Generated answer for query: How do personal loan complaints differ from credit card complaints?\n"
     ]
    }
   ],
   "source": [
    "evaluation_results = []\n",
    "for question in evaluation_questions:\n",
    "    try:\n",
    "        result = rag_pipeline(question, llm, embedding_model, index, chunks, metadata, prompt_template)\n",
    "        quality_score = 3\n",
    "        comment = \"Review answer and sources for accuracy and relevance.\"\n",
    "        evaluation_results.append({\n",
    "            'question': question,\n",
    "            'answer': result['answer'][:200] + \"...\" if len(result['answer']) > 200 else result['answer'],\n",
    "            'sources': [f\"Chunk ID: {chunk['metadata']['chunk_id']}, Product: {chunk['metadata']['product']}, Text: {chunk['text'][:100]}...\" for chunk in result['retrieved_chunks'][:2]],\n",
    "            'quality_score': quality_score,\n",
    "            'comment': comment\n",
    "        })\n",
    "    except Exception as e:\n",
    "        logger.error(f\"Error evaluating question '{question}': {e}\")\n",
    "        evaluation_results.append({\n",
    "            'question': question,\n",
    "            'answer': \"Error generating answer.\",\n",
    "            'sources': [],\n",
    "            'quality_score': 1,\n",
    "            'comment': f\"Failed due to: {str(e)}\"\n",
    "        })\n"
   ]
  },
  {
   "cell_type": "code",
   "execution_count": 14,
   "id": "a0e14685",
   "metadata": {},
   "outputs": [
    {
     "name": "stdout",
     "output_type": "stream",
     "text": [
      "2025-07-15 17:54:56,311 - INFO - Evaluation table saved to: ..\\data\\evaluation_table.md\n"
     ]
    }
   ],
   "source": [
    "# Save evaluation results\n",
    "try:\n",
    "    evaluation_df = pd.DataFrame(evaluation_results)\n",
    "    evaluation_df.to_markdown(DATA_DIR / 'evaluation_table.md', index=False)\n",
    "    logger.info(f\"Evaluation table saved to: {DATA_DIR / 'evaluation_table.md'}\")\n",
    "except Exception as e:\n",
    "    logger.error(f\"Error saving evaluation table: {e}\")\n",
    "    raise\n"
   ]
  },
  {
   "cell_type": "code",
   "execution_count": 15,
   "id": "4d43b8d5",
   "metadata": {},
   "outputs": [
    {
     "name": "stdout",
     "output_type": "stream",
     "text": [
      "\n",
      "Sample Evaluation Results:\n",
      "| question                                                                     | answer                                                                                                                                                                                                      | sources                                                                                                                                                                                                                                                                                                            |   quality_score | comment                                               |\n",
      "|:-----------------------------------------------------------------------------|:------------------------------------------------------------------------------------------------------------------------------------------------------------------------------------------------------------|:-------------------------------------------------------------------------------------------------------------------------------------------------------------------------------------------------------------------------------------------------------------------------------------------------------------------|----------------:|:------------------------------------------------------|\n",
      "| What are common issues with credit card billing disputes?                    | fee generation and high minimum payments continues, making it difficult to manage payments and creating undue stress.                                                                                       | ['Chunk ID: 1657_0, Product: Credit card, Text: on xxxxyear, i escalated the issue with a representative named xxxx, who indicated this should have ...', 'Chunk ID: 217_3, Product: Credit card, Text: . while i appreciate the reversals, the pattern of fee generation and high minimum payments continue...']  |               3 | Review answer and sources for accuracy and relevance. |\n",
      "| Why do customers complain about Buy Now, Pay Later services?                 | they depend on credit and for them to treat customers like this the customers that are the reason they are in business because of their customers. i had always made my payments and always made them on... | ['Chunk ID: 372_2, Product: Credit card, Text: . they said they dont have to do any of that. this is horrible services from start to end. when peop...', 'Chunk ID: 1293_2, Product: Credit card, Text: . they essentially acted as a gatekeeper for the merchant, rather than as a neutral party, leaving m...']  |               3 | Review answer and sources for accuracy and relevance. |\n",
      "| Are there any complaints about unauthorized transactions in money transfers? | Yes.                                                                                                                                                                                                        | ['Chunk ID: 1204_0, Product: Credit card, Text: while i was on vacation out of the country i was contacted by a person identified as from bank of am...', 'Chunk ID: 4115_4, Product: Credit card, Text: me against those situations amounts 290.00 260.00 250.00 98.00 there were other transactions but dec...'] |               3 | Review answer and sources for accuracy and relevance. |\n",
      "| What problems do people face with savings account fees?                      | high minimum payments continue, making it difficult to manage payments and creating undue stress. The repetitive nature of these incidents indicates a systemic issue that could potentially impact mill... | ['Chunk ID: 628_6, Product: Credit card, Text: . instead, we have had to completely empty our savings account to pay for basic needs. if the compan...', 'Chunk ID: 3178_1, Product: Credit card, Text: . while this pertains to savings accounts, it raises questions about the transparency and fairness o...']  |               3 | Review answer and sources for accuracy and relevance. |\n",
      "| How do personal loan complaints differ from credit card complaints?          | Personal loan complaints are not related to credit card complaints.                                                                                                                                         | ['Chunk ID: 719_2, Product: Credit card, Text: . their refusal to document their own responses raises serious concerns about their accountability a...', 'Chunk ID: 298_1, Product: Credit card, Text: . i filed a complaint with xxxx, and i started a fraud dispute with xxxx and xxxx. theyre asking me ...']   |               3 | Review answer and sources for accuracy and relevance. |\n"
     ]
    }
   ],
   "source": [
    "# Print sample evaluation\n",
    "print(\"\\nSample Evaluation Results:\")\n",
    "print(evaluation_df.to_markdown(index=False))\n"
   ]
  }
 ],
 "metadata": {
  "kernelspec": {
   "display_name": ".ienv",
   "language": "python",
   "name": "python3"
  },
  "language_info": {
   "codemirror_mode": {
    "name": "ipython",
    "version": 3
   },
   "file_extension": ".py",
   "mimetype": "text/x-python",
   "name": "python",
   "nbconvert_exporter": "python",
   "pygments_lexer": "ipython3",
   "version": "3.12.10"
  }
 },
 "nbformat": 4,
 "nbformat_minor": 5
}
